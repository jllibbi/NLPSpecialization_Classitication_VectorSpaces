{
  "nbformat": 4,
  "nbformat_minor": 0,
  "metadata": {
    "colab": {
      "name": "NLP_Week2_Ass1.ipynb",
      "provenance": [],
      "collapsed_sections": [],
      "authorship_tag": "ABX9TyP7FxOAYJ5WJMJ2OuOzNkds",
      "include_colab_link": true
    },
    "kernelspec": {
      "name": "python3",
      "display_name": "Python 3"
    },
    "language_info": {
      "name": "python"
    }
  },
  "cells": [
    {
      "cell_type": "markdown",
      "metadata": {
        "id": "view-in-github",
        "colab_type": "text"
      },
      "source": [
        "<a href=\"https://colab.research.google.com/github/jllibbi/NLPSpecialization_deeplearningai/blob/main/NLP_Week2_Ass1.ipynb\" target=\"_parent\"><img src=\"https://colab.research.google.com/assets/colab-badge.svg\" alt=\"Open In Colab\"/></a>"
      ]
    },
    {
      "cell_type": "markdown",
      "source": [
        "#**Assignment 2: Naive Bayes**\n",
        "\n",
        "Welcome to week two of this specialization. You will learn about Naive Bayes. Concretely, you will be using Naive Bayes for sentiment analysis on tweets. Given a tweet, you will decide if it has a positive sentiment or a negative one. Specifically you will:\n",
        "\n",
        "*   Train a naive bayes model on a sentiment analysis task\n",
        "*   Test using your model\n",
        "*Compute ratios of positive words to negative words\n",
        "*Do some error analysis\n",
        "*Predict on your own tweet\n",
        "\n",
        "You may already be familiar with Naive Bayes and its justification in terms of conditional probabilities and independence.\n",
        "\n",
        "*   In this week's lectures and assignments we used the ratio of probabilities between positive and negative sentiments. \n",
        "*   This approach gives us simpler formulas for these 2-way classification tasks.\n",
        "\n",
        "Load the cell below to import some packages. You may want to browse the documentation of unfamiliar libraries and functions."
      ],
      "metadata": {
        "id": "32Hj_kZ1iZ07"
      }
    },
    {
      "cell_type": "code",
      "execution_count": 1,
      "metadata": {
        "colab": {
          "base_uri": "https://localhost:8080/"
        },
        "id": "5yFHHgJtiQxN",
        "outputId": "1c132da2-a45c-4093-c618-e7b91ff9fb54"
      },
      "outputs": [
        {
          "output_type": "stream",
          "name": "stdout",
          "text": [
            "[nltk_data] Downloading package twitter_samples to /root/nltk_data...\n",
            "[nltk_data]   Package twitter_samples is already up-to-date!\n",
            "[nltk_data] Downloading package stopwords to /root/nltk_data...\n",
            "[nltk_data]   Package stopwords is already up-to-date!\n"
          ]
        },
        {
          "output_type": "execute_result",
          "data": {
            "text/plain": [
              "True"
            ]
          },
          "metadata": {},
          "execution_count": 1
        }
      ],
      "source": [
        "import pdb\n",
        "import nltk\n",
        "import string\n",
        "import re\n",
        "import numpy as np\n",
        "import pandas as pd\n",
        "\n",
        "from nltk.corpus import stopwords, twitter_samples\n",
        "from nltk.tokenize import TweetTokenizer\n",
        "from nltk.stem import PorterStemmer\n",
        "from os import getcwd\n",
        "\n",
        "nltk.download('twitter_samples')\n",
        "nltk.download('stopwords')"
      ]
    },
    {
      "cell_type": "code",
      "source": [
        "def process_tweet(tweet):\n",
        "  stemmer = PorterStemmer()\n",
        "  stopwords_english = stopwords.words('english')\n",
        "  \n",
        "  tweet = re.sub(r'\\$\\w*', '', tweet)\n",
        "  tweet = re.sub(r'^RT[\\s]+', '', tweet)\n",
        "  tweet = re.sub(r'https?:\\/\\/.*[\\r\\n]*', '', tweet)\n",
        "  tweet = re.sub(r'#', '', tweet)\n",
        "  tokenizer = TweetTokenizer(preserve_case=False, strip_handles=True,reduce_len=True)\n",
        "  tweet_tokens = tokenizer.tokenize(tweet)\n",
        "\n",
        "  tweets_clean = []\n",
        "  for word in tweet_tokens:\n",
        "    if (word not in stopwords_english and word not in string.punctuation): \n",
        "        stem_word = stemmer.stem(word)  # stemming word\n",
        "        tweets_clean.append(stem_word)\n",
        "\n",
        "  return tweets_clean"
      ],
      "metadata": {
        "id": "GxfdhPj0jhMn"
      },
      "execution_count": 2,
      "outputs": []
    },
    {
      "cell_type": "code",
      "source": [
        "def build_freqs(tweets, ys):\n",
        "    \"\"\"Build frequencies.\n",
        "    Input:\n",
        "        tweets: a list of tweets\n",
        "        ys: an m x 1 array with the sentiment label of each tweet (either 0 or 1)\n",
        "    Output:\n",
        "        freqs: a dictionary mapping each (word, sentiment) pair to its frequency\n",
        "    \"\"\"\n",
        "    # Convert np array to list since zip needs an iterable.\n",
        "    # The squeeze is necessary or the list ends up with one element.\n",
        "    # Also note that this is just a NOP if ys is already a list.\n",
        "    yslist = np.squeeze(ys).tolist()\n",
        "\n",
        "    # Start with an empty dictionary and populate it by looping over all tweets\n",
        "    # and over all processed words in each tweet.\n",
        "    freqs = {}\n",
        "    for y, tweet in zip(yslist, tweets):\n",
        "        for word in process_tweet(tweet):\n",
        "            pair = (word, y)\n",
        "            if pair in freqs:\n",
        "                freqs[pair] += 1\n",
        "            else:\n",
        "                freqs[pair] = 1\n",
        "\n",
        "    return freqs"
      ],
      "metadata": {
        "id": "TM9wDqj_JGXz"
      },
      "execution_count": 3,
      "outputs": []
    },
    {
      "cell_type": "code",
      "source": [
        "def lookup(freqs, word, label):\n",
        "    '''\n",
        "    Input:\n",
        "        freqs: a dictionary with the frequency of each pair (or tuple)\n",
        "        word: the word to look up\n",
        "        label: the label corresponding to the word\n",
        "    Output:\n",
        "        n: the number of times the word with its corresponding label appears.\n",
        "    '''\n",
        "    n = 0  # freqs.get((word, label), 0)\n",
        "\n",
        "    pair = (word, label)\n",
        "    if (pair in freqs):\n",
        "        n = freqs[pair]\n",
        "\n",
        "    return n"
      ],
      "metadata": {
        "id": "1ZxSYhRujmEB"
      },
      "execution_count": 4,
      "outputs": []
    },
    {
      "cell_type": "code",
      "source": [
        "# add folder, tmp2, from our local workspace containing pre-downloaded corpora files to nltk's data path\n",
        "filePath = f\"{getcwd()}/../tmp2/\"\n",
        "nltk.data.path.append(filePath)"
      ],
      "metadata": {
        "id": "ZEARJVHnkFNA"
      },
      "execution_count": 5,
      "outputs": []
    },
    {
      "cell_type": "code",
      "source": [
        "# get the sets of positive and negative tweets\n",
        "all_positive_tweets = twitter_samples.strings('positive_tweets.json')\n",
        "all_negative_tweets = twitter_samples.strings('negative_tweets.json')\n",
        "\n",
        "# split the data into two pieces, one for training and one for testing (validation set)\n",
        "test_pos = all_positive_tweets[4000:]\n",
        "train_pos = all_positive_tweets[:4000]\n",
        "test_neg = all_negative_tweets[4000:]\n",
        "train_neg = all_negative_tweets[:4000]\n",
        "\n",
        "train_x = train_pos + train_neg\n",
        "test_x = test_pos + test_neg\n",
        "\n",
        "# avoid assumptions about the length of all_positive_tweets\n",
        "train_y = np.append(np.ones(len(train_pos)), np.zeros(len(train_neg)))\n",
        "test_y = np.append(np.ones(len(test_pos)), np.zeros(len(test_neg)))\n",
        "\n",
        "tweets = all_positive_tweets + all_negative_tweets"
      ],
      "metadata": {
        "id": "nlCIFu16kIR5"
      },
      "execution_count": 6,
      "outputs": []
    },
    {
      "cell_type": "markdown",
      "source": [
        "##**Part 1: Process the Data**\n",
        "For any machine learning project, once you've gathered the data, the first step is to process it to make useful inputs to your model.\n",
        "\n",
        "*   **Remove noise**: You will first want to remove noise from your data -- that is, remove words that don't tell you much about the content. These include all common words like 'I, you, are, is, etc...' that would not give us enough information on the sentiment.\n",
        "*   We'll also remove stock market tickers, retweet symbols, hyperlinks, and hashtags because they can not tell you a lot of information on the sentiment.\n",
        "*You also want to remove all the punctuation from a tweet. The reason for doing this is because we want to treat words with or without the punctuation as the same word, instead of treating \"happy\", \"happy?\", \"happy!\", \"happy,\" and \"happy.\" as different words.\n",
        "*Finally you want to use stemming to only keep track of one variation of each word. In other words, we'll treat \"motivation\", \"motivated\", and \"motivate\" similarly by grouping them within the same stem of \"motiv-\".\n",
        "\n",
        "We have given you the function `process_tweet()` that does this for you."
      ],
      "metadata": {
        "id": "bMCR1cEmkKUk"
      }
    },
    {
      "cell_type": "code",
      "source": [
        "custom_tweet = \"RT @Twitter @chapagain Hello There! Have a great day. :) #good #morning http://chapagain.com.np\"\n",
        "\n",
        "# print cleaned tweet\n",
        "print(process_tweet(custom_tweet))"
      ],
      "metadata": {
        "colab": {
          "base_uri": "https://localhost:8080/"
        },
        "id": "vg1_tBALkmMX",
        "outputId": "fb2a1cb5-2074-4f0b-ca0d-9c94ab11e4b1"
      },
      "execution_count": 7,
      "outputs": [
        {
          "output_type": "stream",
          "name": "stdout",
          "text": [
            "['hello', 'great', 'day', ':)', 'good', 'morn']\n"
          ]
        }
      ]
    },
    {
      "cell_type": "markdown",
      "source": [
        "###**Part 1.1 Implementing your helper functions**\n",
        "To help train your naive bayes model, you will need to build a dictionary where the keys are a (word, label) tuple and the values are the corresponding frequency. Note that the labels we'll use here are 1 for positive and 0 for negative.\n",
        "\n",
        "You will also implement a `lookup()` helper function that takes in the `freqs` dictionary, a word, and a label (1 or 0) and returns the number of times that word and label tuple appears in the collection of tweets.\n",
        "\n",
        "For example: given a list of tweets `[\"i am rather excited\", \"you are rather happy\"]` and the label 1, the function will return a dictionary that contains the following key-value pairs:\n",
        "\n",
        "\n",
        "{ (\"rather\", 1): 2 (\"happi\", 1) : 1 (\"excit\", 1) : 1 }\n",
        "\n",
        "\n",
        "\n",
        "*   Notice how for each word in the given string, the same label 1 is assigned to each word.\n",
        "*   Notice how the words \"i\" and \"am\" are not saved, since it was removed by process_tweet because it is a stopword.\n",
        "*Notice how the word \"rather\" appears twice in the list of tweets, and so its count value is 2.\n",
        "\n",
        "**Instructions**\n",
        "Create a function `count_tweets()` that takes a list of tweets as input, cleans all of them, and returns a dictionary.\n",
        "\n",
        "*   The key in the dictionary is a tuple containing the stemmed word and its class label, e.g. (\"happi\",1).\n",
        "*   The value the number of times this word appears in the given collection of tweets (an integer).\n",
        "\n",
        "**Hints** \n",
        "*   Please use the `process_tweet` function that was imported above, and then store the words in their respective dictionaries and sets.\n",
        "*   You may find it useful to use the `zip` function to match each element in `tweets` with each element in `ys`.\n",
        "*Remember to check if the key in the dictionary exists before adding that key to the dictionary, or incrementing its value.\n",
        "*Assume that the `result` dictionary that is input will contain clean key-value pairs (you can assume that the values will be integers that can be incremented). It is good practice to check the datatype before incrementing the value, but it's not required here."
      ],
      "metadata": {
        "id": "DAkH2dS_krPM"
      }
    },
    {
      "cell_type": "code",
      "source": [
        "# UNQ_C1 (UNIQUE CELL IDENTIFIER, DO NOT EDIT)\n",
        "def count_tweets(result, tweets, ys):\n",
        "    '''\n",
        "    Input:\n",
        "        result: a dictionary that will be used to map each pair to its frequency\n",
        "        tweets: a list of tweets\n",
        "        ys: a list corresponding to the sentiment of each tweet (either 0 or 1)\n",
        "    Output:\n",
        "        result: a dictionary mapping each pair to its frequency\n",
        "    '''\n",
        "\n",
        "    ### START CODE HERE (REPLACE INSTANCES OF 'None' with your code) ###\n",
        "    for y, tweet in zip(ys, tweets):\n",
        "        for word in process_tweet(tweet):\n",
        "            # define the key, which is the word and label tuple\n",
        "            pair = (word, y)\n",
        "\n",
        "            # if the key exists in the dictionary, increment the count\n",
        "            if pair in result:\n",
        "                result[pair] += 1\n",
        "\n",
        "            # else, if the key is new, add it to the dictionary and set the count to 1\n",
        "            else:\n",
        "                result[pair] = 1\n",
        "    ### END CODE HERE ###\n",
        "\n",
        "    return result"
      ],
      "metadata": {
        "id": "Zcu29wjLl2F_"
      },
      "execution_count": 8,
      "outputs": []
    },
    {
      "cell_type": "code",
      "source": [
        "# Testing your function\n",
        "\n",
        "\n",
        "result = {}\n",
        "tweets = ['i am happy', 'i am tricked', 'i am sad', 'i am tired', 'i am tired']\n",
        "ys = [1, 0, 0, 0, 0]\n",
        "count_tweets(result, tweets, ys)"
      ],
      "metadata": {
        "colab": {
          "base_uri": "https://localhost:8080/"
        },
        "id": "tW_zAAKel312",
        "outputId": "d66ac77d-3620-4a25-a45f-3470b43056db"
      },
      "execution_count": 9,
      "outputs": [
        {
          "output_type": "execute_result",
          "data": {
            "text/plain": [
              "{('happi', 1): 1, ('sad', 0): 1, ('tire', 0): 2, ('trick', 0): 1}"
            ]
          },
          "metadata": {},
          "execution_count": 9
        }
      ]
    },
    {
      "cell_type": "markdown",
      "source": [
        "**Expected Output**: {('happi', 1): 1, ('trick', 0): 1, ('sad', 0): 1, ('tire', 0): 2}"
      ],
      "metadata": {
        "id": "uEmcpjv_l7Zd"
      }
    },
    {
      "cell_type": "markdown",
      "source": [
        "##**Part 2: Train your model using Naive Bayes**\n",
        "Naive bayes is an algorithm that could be used for sentiment analysis. It takes a short time to train and also has a short prediction time.\n",
        "\n",
        "**So how do you train a Naive Bayes classifier?**\n",
        "\n",
        "\n",
        "*   The first part of training a naive bayes classifier is to identify the number of classes that you have.\n",
        "*   You will create a probability for each class. *P(D<sub>pos</sub>)* is the probability that the document is positive. *P(D<sub>neg</sub>)* is the probability that the document is negative. Use the formulas as follows and store the values in a dictionary:\n",
        "\n",
        "(1) *P(D<sub>pos</sub>)* = *D<sub>pos</sub>* / *D*\n",
        "\n",
        "(2) *P(D<sub>neg</sub>)* = *D<sub>neg</sub>* / *D*\n",
        "\n",
        "Where *D* is the total number of documents, or tweets in this case, *D<sub>pos</sub>* is the total number of positive tweets and *D<sub>neg</sub>* is the total number of negative tweets.\n",
        "\n",
        "**Prior and Logprior**\n",
        "The prior probability represents the underlying probability in the target population that a tweet is positive versus negative. In other words, if we had no specific information and blindly picked a tweet out of the population set, what is the probability that it will be positive versus that it will be negative? That is the \"prior\".\n",
        "\n",
        "The prior is the ratio of the probabilities *P(D<sub>pos</sub>)* / *P(D<sub>neg</sub>)*. We can take the log of the prior to rescale it, and we'll call this the logprior\n",
        "\n",
        "logprior = *log*(*P(D<sub>pos</sub>)* / *P(D<sub>neg</sub>)*) = *log*(*D<sub>pos</sub>* / *D<sub>neg</sub>*)\n",
        "\n",
        "Note that *log(A/B)* is the same as *log(A)-log(B)*. So the logprior can also be calculated as the difference between two logs:\n",
        "\n",
        "(3) logprior = *log(P(D<sub>pos</sub>))* - *log(P(D<sub>neg</sub>))* = *log(D<sub>pos</sub>)* - *log(D<sub>neg</sub>)*\n",
        "\n",
        "**Positive and Negative Probability of a Word**\n",
        "To compute the positive probability and the negative probability for a specific word in the vocabulary, we'll use the following inputs:\n",
        "\n",
        "\n",
        "*   ***freq<sub>pos</sub>*** and ***freq<sub>neg</sub>*** are the frequencies of that specific word in the positive or negative class. In other words, the positive frequency of a word is the number of times the word is counted with the label of 1.\n",
        "*   ***N<sub>pos</sub>*** and ***N<sub>neg</sub>*** are the total number of positive and negative words for all documents (for all tweets), respectively.\n",
        "* ***V*** is the number of unique words in the entire set of documents, for all classes, whether positive or negative.\n",
        "\n",
        "We'll use these to compute the positive and negative probability for a specific word using this formula:\n",
        "\n",
        "(4) *P(W<sub>pos</sub>)* = *freq<sub>pos</sub>+1* / *N<sub>pos</sub>*+*V*\n",
        "\n",
        "(5) *P(W<sub>neg</sub>)* = *freq<sub>neg</sub>+1* / *N<sub>neg</sub>*+*V*\n",
        "\n",
        "Notice that we add the \"+1\" in the numerator for additive smoothing. This [wiki article](https://en.wikipedia.org/wiki/Additive_smoothing) explains more about additive smoothing.\n",
        "\n",
        "**Log likelihood**\n",
        "To compute the loglikelihood of that very same word, we can implement the following equations:\n",
        "\n",
        "(6) **loglikelihood** = log(*P(W<sub>pos</sub>)*/*P(W<sub>neg</sub>)*)\n",
        "\n",
        "Create `freqs` dictionary\n",
        "\n",
        "\n",
        "*   Given your `count_tweets()` function, you can compute a dictionary called `freqs` that contains all the frequencies.\n",
        "*   In this `freqs` dictionary, the key is the tuple (word, label)\n",
        "* The value is the number of times it has appeared.\n",
        "\n",
        "We will use this dictionary in several parts of this assignment."
      ],
      "metadata": {
        "id": "av-G5M00l_5v"
      }
    },
    {
      "cell_type": "code",
      "source": [
        "# Build the freqs dictionary for later uses\n",
        "\n",
        "freqs = count_tweets({}, train_x, train_y)"
      ],
      "metadata": {
        "id": "dOtRvEz-qYQx"
      },
      "execution_count": 10,
      "outputs": []
    },
    {
      "cell_type": "markdown",
      "source": [
        "**Instructions**\n",
        "Given a freqs dictionary, `train_x` (a list of tweets) and a `train_y` (a list of labels for each tweet), implement a naive bayes classifier.\n",
        "\n",
        "**Calculate *V***\n",
        "\n",
        "*   You can then compute the number of unique words that appear in the `freqs` dictionary to get your ***V*** (you can use the `set` function).\n",
        "\n",
        "**Calculate *freq<sub>pos</sub>* and *freq<sub>neg</sub>*** \n",
        "* Using your `freqs` dictionary, you can compute the positive and negative frequency of each word ***freq<sub>pos</sub>*** and ***freq<sub>neg</sub>***.\n",
        "\n",
        "**Calculate *N<sub>pos</sub>* and *N<sub>neg</sub>***\n",
        "* Using `freqs` dictionary, you can also compute the total number of positive words and total number of negative words ***N<sub>pos</sub>*** and ***N<sub>neg</sub>***.\n",
        "\n",
        "**Calculate , *D*, *D<sub>pos</sub>*, *D<sub>neg</sub>***\n",
        "* Using the `train_y` input list of labels, calculate the number of documents (tweets) ***D***, as well as the number of positive documents (tweets) ***D<sub>pos</sub>*** and number of negative documents (tweets) ***D<sub>neg</sub>***.\n",
        "* Calculate the probability that a document (tweet) is positive ***P(D<sub>pos</sub>)***, and the probability that a document (tweet) is negative ***P(D<sub>neg</sub>)***\n",
        "\n",
        "**Calculate the logprior**\n",
        "* the logprior is ***log(D<sub>pos</sub>) - log(D<sub>neg</sub>)***\n",
        "\n",
        "**Calculate log likelihood**\n",
        "* Finally, you can iterate over each word in the vocabulary, use your `lookup` function to get the positive frequencies, ***freq<sub>pos</sub>***, and the negative frequencies, ***freq<sub>neg</sub>***, for that specific word.\n",
        "* Compute the positive probability of each word ***P(W<sub>pos</sub>)***, negative probability of each word ***P(W<sub>neg</sub>)*** using equations 4 & 5.\n",
        "\n",
        "(4) ***P(W<sub>pos</sub>)*** = ***freq<sub>pos</sub>***+ 1 / ***N<sub>pos</sub>*** + ***V***\n",
        "\n",
        "\n",
        "(5) ***P(W<sub>neg</sub>)*** = ***freq<sub>neg</sub>***+ 1 / ***N<sub>neg</sub>*** + ***V***\n",
        "\n",
        "**Note**: We'll use a dictionary to store the log likelihoods for each word. The key is the word, the value is the log likelihood of that word).\n",
        "\n",
        "\n",
        "\n",
        "*   You can then compute the loglikelihood: ***log(P(W<sub>pos</sub>) / P(W<sub>neg</sub>))***\n",
        "\n"
      ],
      "metadata": {
        "id": "QqURsZk5qjYT"
      }
    },
    {
      "cell_type": "code",
      "source": [
        "# UNQ_C2 (UNIQUE CELL IDENTIFIER, DO NOT EDIT)\n",
        "def train_naive_bayes(freqs, train_x, train_y):\n",
        "    '''\n",
        "    Input:\n",
        "        freqs: dictionary from (word, label) to how often the word appears\n",
        "        train_x: a list of tweets\n",
        "        train_y: a list of labels correponding to the tweets (0,1)\n",
        "    Output:\n",
        "        logprior: the log prior. (equation 3 above)\n",
        "        loglikelihood: the log likelihood of you Naive bayes equation. (equation 6 above)\n",
        "    '''\n",
        "    loglikelihood = {}\n",
        "    logprior = 0\n",
        "\n",
        "    ### START CODE HERE (REPLACE INSTANCES OF 'None' with your code) ###\n",
        "\n",
        "    # calculate V, the number of unique words in the vocabulary\n",
        "    vocab = set([pair[0] for pair in freqs.keys()])\n",
        "    V = len(vocab)\n",
        "\n",
        "    # calculate N_pos and N_neg\n",
        "    N_pos = N_neg = 0\n",
        "    for pair in freqs.keys():\n",
        "        # if the label is positive (greater than zero)\n",
        "        if pair[1] > 0:\n",
        "\n",
        "            # Increment the number of positive words by the count for this (word, label) pair\n",
        "            N_pos += freqs[pair]\n",
        "\n",
        "        # else, the label is negative\n",
        "        else:\n",
        "\n",
        "            # increment the number of negative words by the count for this (word,label) pair\n",
        "            N_neg += freqs[pair]\n",
        "\n",
        "    # Calculate D, the number of documents\n",
        "    D = len(train_y)\n",
        "\n",
        "    # Calculate D_pos, the number of positive documents (*hint: use sum(<np_array>))\n",
        "    D_pos = train_y.sum()\n",
        "\n",
        "    # Calculate D_neg, the number of negative documents (*hint: compute using D and D_pos)\n",
        "    D_neg = D-D_pos\n",
        "\n",
        "    # Calculate logprior\n",
        "    logprior = np.log(D_pos)-np.log(D_neg)\n",
        "\n",
        "    # For each word in the vocabulary...\n",
        "    for word in vocab:\n",
        "        # get the positive and negative frequency of the word\n",
        "        freq_pos = lookup(freqs,word,1)\n",
        "        freq_neg = lookup(freqs,word,0)\n",
        "\n",
        "        # calculate the probability that each word is positive, and negative\n",
        "        p_w_pos = (freq_pos+1)/(N_pos+V)\n",
        "        p_w_neg = (freq_neg+1)/(N_neg+V)\n",
        "\n",
        "        # calculate the log likelihood of the word\n",
        "        loglikelihood[word] = np.log(p_w_pos/p_w_neg)\n",
        "\n",
        "    ### END CODE HERE ###\n",
        "\n",
        "    return logprior, loglikelihood"
      ],
      "metadata": {
        "id": "T-WB0sVTwXoz"
      },
      "execution_count": 11,
      "outputs": []
    },
    {
      "cell_type": "code",
      "source": [
        "# UNQ_C3 (UNIQUE CELL IDENTIFIER, DO NOT EDIT)\n",
        "# You do not have to input any code in this cell, but it is relevant to grading, so please do not change anything\n",
        "logprior, loglikelihood = train_naive_bayes(freqs, train_x, train_y)\n",
        "print(logprior)\n",
        "print(len(loglikelihood))"
      ],
      "metadata": {
        "colab": {
          "base_uri": "https://localhost:8080/"
        },
        "id": "Dmd0kDjWwa25",
        "outputId": "8dbbce50-7687-44f1-fefc-9277e2f309ca"
      },
      "execution_count": 12,
      "outputs": [
        {
          "output_type": "stream",
          "name": "stdout",
          "text": [
            "0.0\n",
            "9089\n"
          ]
        }
      ]
    },
    {
      "cell_type": "markdown",
      "source": [
        "**Expected Output:**\n",
        "\n",
        "0.0\n",
        "\n",
        "9089"
      ],
      "metadata": {
        "id": "vyD-L7KjwddZ"
      }
    },
    {
      "cell_type": "markdown",
      "source": [
        "##**Part 3: Test your naive bayes**\n",
        "Now that we have the `logprior` and `loglikelihood`, we can test the naive bayes function by making predicting on some tweets!\n",
        "\n",
        "**Implement `naive_bayes_predict`**\n",
        "\n",
        "**Instructions:** Implement the `naive_bayes_predict` function to make predictions on tweets.\n",
        "\n",
        "\n",
        "*   The function takes in the `tweet`, `logprior`, `loglikelihood`.\n",
        "*   It returns the probability that the tweet belongs to the positive or negative class.\n",
        "* For each tweet, sum up loglikelihoods of each word in the tweet.\n",
        "* Also add the logprior to this sum to get the predicted sentiment of that tweet.\n",
        "\n",
        "***p* = *logprior + zigma(loglikelihood)***\n",
        "\n",
        "**Note**\n",
        "Note we calculate the prior from the training data, and that the training data is evenly split between positive and negative labels (4000 positive and 4000 negative tweets). This means that the ratio of positive to negative 1, and the logprior is 0.\n",
        "\n",
        "The value of 0.0 means that when we add the logprior to the log likelihood, we're just adding zero to the log likelihood. However, please remember to include the logprior, because whenever the data is not perfectly balanced, the logprior will be a non-zero value."
      ],
      "metadata": {
        "id": "UkrFWUmYwgeq"
      }
    },
    {
      "cell_type": "code",
      "source": [
        "# UNQ_C4 (UNIQUE CELL IDENTIFIER, DO NOT EDIT)\n",
        "def naive_bayes_predict(tweet, logprior, loglikelihood):\n",
        "    '''\n",
        "    Input:\n",
        "        tweet: a string\n",
        "        logprior: a number\n",
        "        loglikelihood: a dictionary of words mapping to numbers\n",
        "    Output:\n",
        "        p: the sum of all the logliklihoods of each word in the tweet (if found in the dictionary) + logprior (a number)\n",
        "\n",
        "    '''\n",
        "    ### START CODE HERE (REPLACE INSTANCES OF 'None' with your code) ###\n",
        "    # process the tweet to get a list of words\n",
        "    word_l = process_tweet(tweet)\n",
        "\n",
        "    # initialize probability to zero\n",
        "    p = 0\n",
        "\n",
        "    # add the logprior\n",
        "    p += logprior\n",
        "\n",
        "    for word in word_l:\n",
        "\n",
        "        # check if the word exists in the loglikelihood dictionary\n",
        "        if word in loglikelihood:\n",
        "            # add the log likelihood of that word to the probability\n",
        "            p += loglikelihood[word]\n",
        "\n",
        "    ### END CODE HERE ###\n",
        "\n",
        "    return p"
      ],
      "metadata": {
        "id": "i69rMLPL-8Vb"
      },
      "execution_count": 13,
      "outputs": []
    },
    {
      "cell_type": "code",
      "source": [
        "# UNQ_C5 (UNIQUE CELL IDENTIFIER, DO NOT EDIT)\n",
        "# You do not have to input any code in this cell, but it is relevant to grading, so please do not change anything\n",
        "\n",
        "# Experiment with your own tweet.\n",
        "my_tweet = 'She smiled.'\n",
        "p = naive_bayes_predict(my_tweet, logprior, loglikelihood)\n",
        "print('The expected output is', p)"
      ],
      "metadata": {
        "colab": {
          "base_uri": "https://localhost:8080/"
        },
        "id": "hb59HbOk---5",
        "outputId": "3cd56817-3fa1-41e4-d44f-3c33fe5178da"
      },
      "execution_count": 14,
      "outputs": [
        {
          "output_type": "stream",
          "name": "stdout",
          "text": [
            "The expected output is 1.5740278623499175\n"
          ]
        }
      ]
    },
    {
      "cell_type": "markdown",
      "source": [
        "**Expected Output:**\n",
        "\n",
        "*   The expected output is around 1.57\n",
        "*   The sentiment is positive."
      ],
      "metadata": {
        "id": "ENoWHnrz_AhA"
      }
    },
    {
      "cell_type": "markdown",
      "source": [
        "###**Implement test_naive_bayes**\n",
        "**Instructions:**\n",
        "\n",
        "* Implement `test_naive_bayes` to check the accuracy of your predictions.\n",
        "* The function takes in your `test_x`, `test_y`, log_prior, and loglikelihood\n",
        "* It returns the accuracy of your model.\n",
        "* First, use `naive_bayes_predict` function to make predictions for each tweet in text_x."
      ],
      "metadata": {
        "id": "wdSpEM-8_Kie"
      }
    },
    {
      "cell_type": "code",
      "source": [
        "# UNQ_C6 (UNIQUE CELL IDENTIFIER, DO NOT EDIT)\n",
        "def test_naive_bayes(test_x, test_y, logprior, loglikelihood):\n",
        "    \"\"\"\n",
        "    Input:\n",
        "        test_x: A list of tweets\n",
        "        test_y: the corresponding labels for the list of tweets\n",
        "        logprior: the logprior\n",
        "        loglikelihood: a dictionary with the loglikelihoods for each word\n",
        "    Output:\n",
        "        accuracy: (# of tweets classified correctly)/(total # of tweets)\n",
        "    \"\"\"\n",
        "    accuracy = 0  # return this properly\n",
        "\n",
        "    ### START CODE HERE (REPLACE INSTANCES OF 'None' with your code) ###\n",
        "    y_hats = []\n",
        "    for tweet in test_x:\n",
        "        # if the prediction is > 0\n",
        "        if naive_bayes_predict(tweet, logprior, loglikelihood) > 0:\n",
        "            # the predicted class is 1\n",
        "            y_hat_i = 1\n",
        "        else:\n",
        "            # otherwise the predicted class is 0\n",
        "            y_hat_i = 0\n",
        "\n",
        "        # append the predicted class to the list y_hats\n",
        "        y_hats.append(y_hat_i)\n",
        "\n",
        "    # error is the average of the absolute values of the differences between y_hats and test_y\n",
        "    error = np.mean(np.absolute(y_hats-test_y))\n",
        "\n",
        "    # Accuracy is 1 minus the error\n",
        "    accuracy = 1 - error\n",
        "\n",
        "    ### END CODE HERE ###\n",
        "\n",
        "    return accuracy"
      ],
      "metadata": {
        "id": "8EeN3mqU_dtB"
      },
      "execution_count": 15,
      "outputs": []
    },
    {
      "cell_type": "code",
      "source": [
        "print(\"Naive Bayes accuracy = %0.4f\" %\n",
        "      (test_naive_bayes(test_x, test_y, logprior, loglikelihood)))"
      ],
      "metadata": {
        "colab": {
          "base_uri": "https://localhost:8080/"
        },
        "id": "YdaGGI1Q_h3J",
        "outputId": "e4ed3a43-e32c-4c3b-d47d-a9f8c8b5bd1b"
      },
      "execution_count": 16,
      "outputs": [
        {
          "output_type": "stream",
          "name": "stdout",
          "text": [
            "Naive Bayes accuracy = 0.9940\n"
          ]
        }
      ]
    },
    {
      "cell_type": "markdown",
      "source": [
        "**Expected Accuracy:**\n",
        "\n",
        "0.9940"
      ],
      "metadata": {
        "id": "dbj0V5i3_jvE"
      }
    },
    {
      "cell_type": "code",
      "source": [
        "# UNQ_C7 (UNIQUE CELL IDENTIFIER, DO NOT EDIT)\n",
        "# You do not have to input any code in this cell, but it is relevant to grading, so please do not change anything\n",
        "\n",
        "# Run this cell to test your function\n",
        "for tweet in ['I am happy', 'I am bad', 'this movie should have been great.', 'great', 'great great', 'great great great', 'great great great great']:\n",
        "    # print( '%s -> %f' % (tweet, naive_bayes_predict(tweet, logprior, loglikelihood)))\n",
        "    p = naive_bayes_predict(tweet, logprior, loglikelihood)\n",
        "#     print(f'{tweet} -> {p:.2f} ({p_category})')\n",
        "    print(f'{tweet} -> {p:.2f}')"
      ],
      "metadata": {
        "colab": {
          "base_uri": "https://localhost:8080/"
        },
        "id": "uvYlNKT1_nfW",
        "outputId": "be178c59-cbf4-4bfb-cdda-d0434aed1751"
      },
      "execution_count": 17,
      "outputs": [
        {
          "output_type": "stream",
          "name": "stdout",
          "text": [
            "I am happy -> 2.15\n",
            "I am bad -> -1.29\n",
            "this movie should have been great. -> 2.14\n",
            "great -> 2.14\n",
            "great great -> 4.28\n",
            "great great great -> 6.41\n",
            "great great great great -> 8.55\n"
          ]
        }
      ]
    },
    {
      "cell_type": "markdown",
      "source": [
        "**Expected Output:**\n",
        "\n",
        "* I am happy -> 2.15\n",
        "* I am bad -> -1.29\n",
        "* this movie should have been great. -> 2.14\n",
        "* great -> 2.14\n",
        "* great great -> 4.28\n",
        "* great great great -> 6.41\n",
        "* great great great great -> 8.55"
      ],
      "metadata": {
        "id": "VjJAOXun_uhl"
      }
    },
    {
      "cell_type": "code",
      "source": [
        "# Feel free to check the sentiment of your own tweet below\n",
        "my_tweet = 'you are bad :('\n",
        "naive_bayes_predict(my_tweet, logprior, loglikelihood) "
      ],
      "metadata": {
        "colab": {
          "base_uri": "https://localhost:8080/"
        },
        "id": "QKatsbSy_4xF",
        "outputId": "8779ab80-48e0-4512-97cb-db925d64d29b"
      },
      "execution_count": 18,
      "outputs": [
        {
          "output_type": "execute_result",
          "data": {
            "text/plain": [
              "-8.801622640492191"
            ]
          },
          "metadata": {},
          "execution_count": 18
        }
      ]
    },
    {
      "cell_type": "markdown",
      "source": [
        "##**Part 4: Filter words by Ratio of positive to negative counts**\n",
        "* Some words have more positive counts than others, and can be considered \"more positive\". Likewise, some words can be considered more negative than others.\n",
        "* One way for us to define the level of positiveness or negativeness, without calculating the log likelihood, is to compare the positive to negative frequency of the word.\n",
        "    - Note that we can also use the log likelihood calculations to compare relative positivity or negativity of words.\n",
        "* We can calculate the ratio of positive to negative frequencies of a word.\n",
        "* Once we're able to calculate these ratios, we can also filter a subset of words that have a minimum ratio of positivity / negativity or higher.\n",
        "* Similarly, we can also filter a subset of words that have a maximum ratio of positivity / negativity or lower (words that are at least as negative, or even more negative than a given threshold).\n",
        "\n",
        "**Implement `get_ratio()`**\n",
        "* Given the `freqs` dictionary of words and a particular word, use `lookup(freqs,word,1)` to get the positive count of the word.\n",
        "* Similarly, use the `lookup()` function to get the negative count of that word.\n",
        "* Calculate the ratio of positive divided by negative counts\n",
        "\n",
        "*ratio* = pos_words + 1 / neg_words + 1\n",
        "\n",
        "Where pos_words and neg_words correspond to the frequency of the words in their respective classes.\n",
        "\n",
        "![Capture.JPG](data:image/jpeg;base64,/9j/4AAQSkZJRgABAQEAeAB4AAD/4RDaRXhpZgAATU0AKgAAAAgABAE7AAIAAAAFAAAISodpAAQAAAABAAAIUJydAAEAAAAKAAAQyOocAAcAAAgMAAAAPgAAAAAc6gAAAAgAAAAAAAAAAAAAAAAAAAAAAAAAAAAAAAAAAAAAAAAAAAAAAAAAAAAAAAAAAAAAAAAAAAAAAAAAAAAAAAAAAAAAAAAAAAAAAAAAAAAAAAAAAAAAAAAAAAAAAAAAAAAAAAAAAAAAAAAAAAAAAAAAAAAAAAAAAAAAAAAAAAAAAAAAAAAAAAAAAAAAAAAAAAAAAAAAAAAAAAAAAAAAAAAAAAAAAAAAAAAAAAAAAAAAAAAAAAAAAAAAAAAAAAAAAAAAAAAAAAAAAAAAAAAAAAAAAAAAAAAAAAAAAAAAAAAAAAAAAAAAAAAAAAAAAAAAAAAAAAAAAAAAAAAAAAAAAAAAAAAAAAAAAAAAAAAAAAAAAAAAAAAAAAAAAAAAAAAAAAAAAAAAAAAAAAAAAAAAAAAAAAAAAAAAAAAAAAAAAAAAAAAAAAAAAAAAAAAAAAAAAAAAAAAAAAAAAAAAAAAAAAAAAAAAAAAAAAAAAAAAAAAAAAAAAAAAAAAAAAAAAAAAAAAAAAAAAAAAAAAAAAAAAAAAAAAAAAAAAAAAAAAAAAAAAAAAAAAAAAAAAAAAAAAAAAAAAAAAAAAAAAAAAAAAAAAAAAAAAAAAAAAAAAAAAAAAAAAAAAAAAAAAAAAAAAAAAAAAAAAAAAAAAAAAAAAAAAAAAAAAAAAAAAAAAAAAAAAAAAAAAAAAAAAAAAAAAAAAAAAAAAAAAAAAAAAAAAAAAAAAAAAAAAAAAAAAAAAAAAAAAAAAAAAAAAAAAAAAAAAAAAAAAAAAAAAAAAAAAAAAAAAAAAAAAAAAAAAAAAAAAAAAAAAAAAAAAAAAAAAAAAAAAAAAAAAAAAAAAAAAAAAAAAAAAAAAAAAAAAAAAAAAAAAAAAAAAAAAAAAAAAAAAAAAAAAAAAAAAAAAAAAAAAAAAAAAAAAAAAAAAAAAAAAAAAAAAAAAAAAAAAAAAAAAAAAAAAAAAAAAAAAAAAAAAAAAAAAAAAAAAAAAAAAAAAAAAAAAAAAAAAAAAAAAAAAAAAAAAAAAAAAAAAAAAAAAAAAAAAAAAAAAAAAAAAAAAAAAAAAAAAAAAAAAAAAAAAAAAAAAAAAAAAAAAAAAAAAAAAAAAAAAAAAAAAAAAAAAAAAAAAAAAAAAAAAAAAAAAAAAAAAAAAAAAAAAAAAAAAAAAAAAAAAAAAAAAAAAAAAAAAAAAAAAAAAAAAAAAAAAAAAAAAAAAAAAAAAAAAAAAAAAAAAAAAAAAAAAAAAAAAAAAAAAAAAAAAAAAAAAAAAAAAAAAAAAAAAAAAAAAAAAAAAAAAAAAAAAAAAAAAAAAAAAAAAAAAAAAAAAAAAAAAAAAAAAAAAAAAAAAAAAAAAAAAAAAAAAAAAAAAAAAAAAAAAAAAAAAAAAAAAAAAAAAAAAAAAAAAAAAAAAAAAAAAAAAAAAAAAAAAAAAAAAAAAAAAAAAAAAAAAAAAAAAAAAAAAAAAAAAAAAAAAAAAAAAAAAAAAAAAAAAAAAAAAAAAAAAAAAAAAAAAAAAAAAAAAAAAAAAAAAAAAAAAAAAAAAAAAAAAAAAAAAAAAAAAAAAAAAAAAAAAAAAAAAAAAAAAAAAAAAAAAAAAAAAAAAAAAAAAAAAAAAAAAAAAAAAAAAAAAAAAAAAAAAAAAAAAAAAAAAAAAAAAAAAAAAAAAAAAAAAAAAAAAAAAAAAAAAAAAAAAAAAAAAAAAAAAAAAAAAAAAAAAAAAAAAAAAAAAAAAAAAAAAAAAAAAAAAAAAAAAAAAAAAAAAAAAAAAAAAAAAAAAAAAAAAAAAAAAAAAAAAAAAAAAAAAAAAAAAAAAAAAAAAAAAAAAAAAAAAAAAAAAAAAAAAAAAAAAAAAAAAAAAAAAAAAAAAAAAAAAAAAAAAAAAAAAAAAAAAAAAAAAAAAAAAAAAAAAAAAAAAAAAAAAAAAAAAAAAAAAAAAAAAAAAAAAAAAAAAAAAAAAAAAAAAAAAAAAAAAAAAAAAAAAAAAAAAAAAAAAAAAAAAAAAAAAAAAAAAAAAAAAAAAAAAAAAAAAAAAAAAAAAAAAAAAAAAAAAAAAAAAAAAAAAAAAAAAAAAAAAAAAAAAAAAAAAAAAAAAAAAAAAAAAAAAAAAAAAAAAAAAAAAAAAAAAAAAAAAAAAAAAAAAAAAAAAAAAAAAAAAAAAAAAAAAAAAAAAAAAAAAAAAAAAAAAAAAAAAAAAAAAAAAAAAAAAAAAAAAAAAAAAAAAAAAAAAAAAAAAAAAAAAAAAAAAAAAAAAAAAAAAAAAAAAAAAAAAAAAAAAAAAAAAAAAAAAAAAAAAAAAAAAAAAAAAAAAAAAAAAAAAAAAAAAAAAAAAAAAAAAAAAAAAAAAAAAAAAAAAAAAAAAAAAAAAAAAAAAAAAAAAAAAAAAAAAAAAAAAAAAAAAAAAAAAAAAAAAAAAAAAAAAAAAAAAAAAAAAAAAAAAAAAAAAAAAAAAAAAAAAAAAAAAAAAAAAAAAAAAAAAAAAAAAAAAAAAAAAAAAAAAAAAAAAAAAAAAAAAAAAAAAAAAAAAAAAAAAAAAAAAAAAAAAAAAAAAAAAAAAAAAAAAAAAAAAAAAAAAAAAAAAAAAAAAAAAAAAAAAAAAAAAAAAAAAAAAAAAAAAAAAAAAAAAAAAAAAAAAAAAAAAAAAAAAAAAAAAAAAAAAAAAAAAAAAAAAAAAAAAAAAAAAAAAAAAAAAAAAAAAAAAAAAAAAAAAAAAAAAAAAAAAAAAAAAAAAAAAAAAAAAAAAAAAAHVzZXIAAAAFkAMAAgAAABQAABCekAQAAgAAABQAABCykpEAAgAAAAMyNQAAkpIAAgAAAAMyNQAA6hwABwAACAwAAAiSAAAAABzqAAAACAAAAAAAAAAAAAAAAAAAAAAAAAAAAAAAAAAAAAAAAAAAAAAAAAAAAAAAAAAAAAAAAAAAAAAAAAAAAAAAAAAAAAAAAAAAAAAAAAAAAAAAAAAAAAAAAAAAAAAAAAAAAAAAAAAAAAAAAAAAAAAAAAAAAAAAAAAAAAAAAAAAAAAAAAAAAAAAAAAAAAAAAAAAAAAAAAAAAAAAAAAAAAAAAAAAAAAAAAAAAAAAAAAAAAAAAAAAAAAAAAAAAAAAAAAAAAAAAAAAAAAAAAAAAAAAAAAAAAAAAAAAAAAAAAAAAAAAAAAAAAAAAAAAAAAAAAAAAAAAAAAAAAAAAAAAAAAAAAAAAAAAAAAAAAAAAAAAAAAAAAAAAAAAAAAAAAAAAAAAAAAAAAAAAAAAAAAAAAAAAAAAAAAAAAAAAAAAAAAAAAAAAAAAAAAAAAAAAAAAAAAAAAAAAAAAAAAAAAAAAAAAAAAAAAAAAAAAAAAAAAAAAAAAAAAAAAAAAAAAAAAAAAAAAAAAAAAAAAAAAAAAAAAAAAAAAAAAAAAAAAAAAAAAAAAAAAAAAAAAAAAAAAAAAAAAAAAAAAAAAAAAAAAAAAAAAAAAAAAAAAAAAAAAAAAAAAAAAAAAAAAAAAAAAAAAAAAAAAAAAAAAAAAAAAAAAAAAAAAAAAAAAAAAAAAAAAAAAAAAAAAAAAAAAAAAAAAAAAAAAAAAAAAAAAAAAAAAAAAAAAAAAAAAAAAAAAAAAAAAAAAAAAAAAAAAAAAAAAAAAAAAAAAAAAAAAAAAAAAAAAAAAAAAAAAAAAAAAAAAAAAAAAAAAAAAAAAAAAAAAAAAAAAAAAAAAAAAAAAAAAAAAAAAAAAAAAAAAAAAAAAAAAAAAAAAAAAAAAAAAAAAAAAAAAAAAAAAAAAAAAAAAAAAAAAAAAAAAAAAAAAAAAAAAAAAAAAAAAAAAAAAAAAAAAAAAAAAAAAAAAAAAAAAAAAAAAAAAAAAAAAAAAAAAAAAAAAAAAAAAAAAAAAAAAAAAAAAAAAAAAAAAAAAAAAAAAAAAAAAAAAAAAAAAAAAAAAAAAAAAAAAAAAAAAAAAAAAAAAAAAAAAAAAAAAAAAAAAAAAAAAAAAAAAAAAAAAAAAAAAAAAAAAAAAAAAAAAAAAAAAAAAAAAAAAAAAAAAAAAAAAAAAAAAAAAAAAAAAAAAAAAAAAAAAAAAAAAAAAAAAAAAAAAAAAAAAAAAAAAAAAAAAAAAAAAAAAAAAAAAAAAAAAAAAAAAAAAAAAAAAAAAAAAAAAAAAAAAAAAAAAAAAAAAAAAAAAAAAAAAAAAAAAAAAAAAAAAAAAAAAAAAAAAAAAAAAAAAAAAAAAAAAAAAAAAAAAAAAAAAAAAAAAAAAAAAAAAAAAAAAAAAAAAAAAAAAAAAAAAAAAAAAAAAAAAAAAAAAAAAAAAAAAAAAAAAAAAAAAAAAAAAAAAAAAAAAAAAAAAAAAAAAAAAAAAAAAAAAAAAAAAAAAAAAAAAAAAAAAAAAAAAAAAAAAAAAAAAAAAAAAAAAAAAAAAAAAAAAAAAAAAAAAAAAAAAAAAAAAAAAAAAAAAAAAAAAAAAAAAAAAAAAAAAAAAAAAAAAAAAAAAAAAAAAAAAAAAAAAAAAAAAAAAAAAAAAAAAAAAAAAAAAAAAAAAAAAAAAAAAAAAAAAAAAAAAAAAAAAAAAAAAAAAAAAAAAAAAAAAAAAAAAAAAAAAAAAAAAAAAAAAAAAAAAAAAAAAAAAAAAAAAAAAAAAAAAAAAAAAAAAAAAAAAAAAAAAAAAAAAAAAAAAAAAAAAAAAAAAAAAAAAAAAAAAAAAAAAAAAAAAAAAAAAAAAAAAAAAAAAAAAAAAAAAAAAAAAAAAAAAAAAAAAAAAAAAAAAAAAAAAAAAAAAAAAAAAAAAAAAAAAAAAAAAAAAAAAAAAAAAAAAAAAAAAAAAAAAAAAAAAAAAAAAAAAAAAAAAAAAAAAAAAAAAAAAAAAAAAAAAAAAAAAAAAAAAAAAAAAAAAAAAAAAAAAAAAAAAAAAAAAAAAAAAAAAAAAAAAAAAAAAAAAAAAAAAAAAAAAAAAAAAAAAAAAAAAAAAAAAAAAAAAAAAAAAAAAAAAAAAAAAAAAAAAAAAAAAAAAAAAAAAAAAAAAAAAAAAAAAAAAAAAAAAAAAAAAAAAAAAAAAAAAAAAAAAAAAAAAAAAAAAAAAAAAAAAAAAAAAAAAAAAAAAAAAAAAAAAAAAAAAAAAAAAAAAAAAAAAAAAAAAAAAAAAAAAAAAAAAAAAAAAAAAAAAAAAAAAAAAAAAAAAAAAAAAAAAAAAAAAAAAAAAAAAAAAAAAAAAAAAAAAAAAAAAAAAAAAAAAAAAAAAAAAAAAAAAAAAAAAAAAAAAAAAAAAAAAAAAAAAAAAAAAAAAAAAAAAAAAAAAAAAAAAAAAAAAAAAAAAAAAAAAAAAAAAAAAAAAAAAAAAAAAAAAAAAAAAAAAAAAAAAAAAAAAAAAAAAAAAAAAAAAAAAAAAAAAAAAAAAAAAAAAAAAAAAAAAAAAAAAAAAAAAAAAAAAAAAAAAAAAAAAAAAAAAAAAAAAAAAAAAAAAAAAAAAAAAAAAAAAAAAAAAAAAAAAAAAAAAAAAAAAAAAAAAAAAAAAAAAAAAAAAAAAAAAAAAAAAAAAAAAAAAAAAAAAAAAAAAAAAAAAAAAAAAAAAAAAAAAAAAAAAAAAAAAAAAAAAAAAAAAAAAAAAAAAAAAAAAAAAAAAAAAAAAAAAAAMjAyMjowNTowMyAxNToyNDowOAAyMDIyOjA1OjAzIDE1OjI0OjA4AAAAdQBzAGUAcgAAAP/hCxdodHRwOi8vbnMuYWRvYmUuY29tL3hhcC8xLjAvADw/eHBhY2tldCBiZWdpbj0n77u/JyBpZD0nVzVNME1wQ2VoaUh6cmVTek5UY3prYzlkJz8+DQo8eDp4bXBtZXRhIHhtbG5zOng9ImFkb2JlOm5zOm1ldGEvIj48cmRmOlJERiB4bWxuczpyZGY9Imh0dHA6Ly93d3cudzMub3JnLzE5OTkvMDIvMjItcmRmLXN5bnRheC1ucyMiPjxyZGY6RGVzY3JpcHRpb24gcmRmOmFib3V0PSJ1dWlkOmZhZjViZGQ1LWJhM2QtMTFkYS1hZDMxLWQzM2Q3NTE4MmYxYiIgeG1sbnM6ZGM9Imh0dHA6Ly9wdXJsLm9yZy9kYy9lbGVtZW50cy8xLjEvIi8+PHJkZjpEZXNjcmlwdGlvbiByZGY6YWJvdXQ9InV1aWQ6ZmFmNWJkZDUtYmEzZC0xMWRhLWFkMzEtZDMzZDc1MTgyZjFiIiB4bWxuczp4bXA9Imh0dHA6Ly9ucy5hZG9iZS5jb20veGFwLzEuMC8iPjx4bXA6Q3JlYXRlRGF0ZT4yMDIyLTA1LTAzVDE1OjI0OjA4LjI0ODwveG1wOkNyZWF0ZURhdGU+PC9yZGY6RGVzY3JpcHRpb24+PHJkZjpEZXNjcmlwdGlvbiByZGY6YWJvdXQ9InV1aWQ6ZmFmNWJkZDUtYmEzZC0xMWRhLWFkMzEtZDMzZDc1MTgyZjFiIiB4bWxuczpkYz0iaHR0cDovL3B1cmwub3JnL2RjL2VsZW1lbnRzLzEuMS8iPjxkYzpjcmVhdG9yPjxyZGY6U2VxIHhtbG5zOnJkZj0iaHR0cDovL3d3dy53My5vcmcvMTk5OS8wMi8yMi1yZGYtc3ludGF4LW5zIyI+PHJkZjpsaT51c2VyPC9yZGY6bGk+PC9yZGY6U2VxPg0KCQkJPC9kYzpjcmVhdG9yPjwvcmRmOkRlc2NyaXB0aW9uPjwvcmRmOlJERj48L3g6eG1wbWV0YT4NCiAgICAgICAgICAgICAgICAgICAgICAgICAgICAgICAgICAgICAgICAgICAgICAgICAgICAgICAgICAgICAgICAgICAgICAgICAgICAgICAgICAgICAgICAgICAgICAgICAgICAKICAgICAgICAgICAgICAgICAgICAgICAgICAgICAgICAgICAgICAgICAgICAgICAgICAgICAgICAgICAgICAgICAgICAgICAgICAgICAgICAgICAgICAgICAgICAgICAgICAgIAogICAgICAgICAgICAgICAgICAgICAgICAgICAgICAgICAgICAgICAgICAgICAgICAgICAgICAgICAgICAgICAgICAgICAgICAgICAgICAgICAgICAgICAgICAgICAgICAgICAgCiAgICAgICAgICAgICAgICAgICAgICAgICAgICAgICAgICAgICAgICAgICAgICAgICAgICAgICAgICAgICAgICAgICAgICAgICAgICAgICAgICAgICAgICAgICAgICAgICAgICAKICAgICAgICAgICAgICAgICAgICAgICAgICAgICAgICAgICAgICAgICAgICAgICAgICAgICAgICAgICAgICAgICAgICAgICAgICAgICAgICAgICAgICAgICAgICAgICAgICAgIAogICAgICAgICAgICAgICAgICAgICAgICAgICAgICAgICAgICAgICAgICAgICAgICAgICAgICAgICAgICAgICAgICAgICAgICAgICAgICAgICAgICAgICAgICAgICAgICAgICAgCiAgICAgICAgICAgICAgICAgICAgICAgICAgICAgICAgICAgICAgICAgICAgICAgICAgICAgICAgICAgICAgICAgICAgICAgICAgICAgICAgICAgICAgICAgICAgICAgICAgICAKICAgICAgICAgICAgICAgICAgICAgICAgICAgICAgICAgICAgICAgICAgICAgICAgICAgICAgICAgICAgICAgICAgICAgICAgICAgICAgICAgICAgICAgICAgICAgICAgICAgIAogICAgICAgICAgICAgICAgICAgICAgICAgICAgICAgICAgICAgICAgICAgICAgICAgICAgICAgICAgICAgICAgICAgICAgICAgICAgICAgICAgICAgICAgICAgICAgICAgICAgCiAgICAgICAgICAgICAgICAgICAgICAgICAgICAgICAgICAgICAgICAgICAgICAgICAgICAgICAgICAgICAgICAgICAgICAgICAgICAgICAgICAgICAgICAgICAgICAgICAgICAKICAgICAgICAgICAgICAgICAgICAgICAgICAgICAgICAgICAgICAgICAgICAgICAgICAgICAgICAgICAgICAgICAgICAgICAgICAgICAgICAgICAgICAgICAgICAgICAgICAgIAogICAgICAgICAgICAgICAgICAgICAgICAgICAgICAgICAgICAgICAgICAgICAgICAgICAgICAgICAgICAgICAgICAgICAgICAgICAgICAgICAgICAgICAgICAgICAgICAgICAgCiAgICAgICAgICAgICAgICAgICAgICAgICAgICAgICAgICAgICAgICAgICAgICAgICAgICAgICAgICAgICAgICAgICAgICAgICAgICAgICAgICAgICAgICAgICAgICAgICAgICAKICAgICAgICAgICAgICAgICAgICAgICAgICAgICAgICAgICAgICAgICAgICAgICAgICAgICAgICAgICAgICAgICAgICAgICAgICAgICAgICAgICAgICAgICAgICAgICAgICAgIAogICAgICAgICAgICAgICAgICAgICAgICAgICAgICAgICAgICAgICAgICAgICAgICAgICAgICAgICAgICAgICAgICAgICAgICAgICAgICAgICAgICAgICAgICAgICAgICAgICAgCiAgICAgICAgICAgICAgICAgICAgICAgICAgICAgICAgICAgICAgICAgICAgICAgICAgICAgICAgICAgICAgICAgICAgICAgICAgICAgICAgICAgICAgICAgICAgICAgICAgICAKICAgICAgICAgICAgICAgICAgICAgICAgICAgICAgICAgICAgICAgICAgICAgICAgICAgICAgICAgICAgICAgICAgICAgICAgICAgICAgICAgICAgICAgICAgICAgICAgICAgIAogICAgICAgICAgICAgICAgICAgICAgICAgICAgICAgICAgICAgICAgICAgICAgICAgICAgICAgICAgICAgICAgICAgICAgICAgICAgICAgICAgICAgICAgICAgICAgICAgICAgCiAgICAgICAgICAgICAgICAgICAgICAgICAgICAgICAgICAgICAgICAgICAgICAgICAgICAgICAgICAgICAgICAgICAgICAgICAgICAgICAgICAgICAgICAgICAgICAgICAgICAKICAgICAgICAgICAgICAgICAgICAgICAgICAgICAgICAgICAgICAgICAgICAgICAgICAgICAgICAgICAgICAgICAgICAgICAgICAgICAgICAgICAgICAgICAgICAgICAgICAgIAogICAgICAgICAgICAgICAgICAgICAgICAgICAgPD94cGFja2V0IGVuZD0ndyc/Pv/bAEMABwUFBgUEBwYFBggHBwgKEQsKCQkKFQ8QDBEYFRoZGBUYFxseJyEbHSUdFxgiLiIlKCkrLCsaIC8zLyoyJyorKv/bAEMBBwgICgkKFAsLFCocGBwqKioqKioqKioqKioqKioqKioqKioqKioqKioqKioqKioqKioqKioqKioqKioqKioqKv/AABEIALgBewMBIgACEQEDEQH/xAAfAAABBQEBAQEBAQAAAAAAAAAAAQIDBAUGBwgJCgv/xAC1EAACAQMDAgQDBQUEBAAAAX0BAgMABBEFEiExQQYTUWEHInEUMoGRoQgjQrHBFVLR8CQzYnKCCQoWFxgZGiUmJygpKjQ1Njc4OTpDREVGR0hJSlNUVVZXWFlaY2RlZmdoaWpzdHV2d3h5eoOEhYaHiImKkpOUlZaXmJmaoqOkpaanqKmqsrO0tba3uLm6wsPExcbHyMnK0tPU1dbX2Nna4eLj5OXm5+jp6vHy8/T19vf4+fr/xAAfAQADAQEBAQEBAQEBAAAAAAAAAQIDBAUGBwgJCgv/xAC1EQACAQIEBAMEBwUEBAABAncAAQIDEQQFITEGEkFRB2FxEyIygQgUQpGhscEJIzNS8BVictEKFiQ04SXxFxgZGiYnKCkqNTY3ODk6Q0RFRkdISUpTVFVWV1hZWmNkZWZnaGlqc3R1dnd4eXqCg4SFhoeIiYqSk5SVlpeYmZqio6Slpqeoqaqys7S1tre4ubrCw8TFxsfIycrS09TV1tfY2dri4+Tl5ufo6ery8/T19vf4+fr/2gAMAwEAAhEDEQA/APpGiiigAooooAKKKKACiiigAooooAKKKKACiiigAooooAKKKKACiiigAooooAKKKKACiiigAooooAKKKKACiiigAooooAKKKKACiiigAooooAKKKKACiiigAooooAKKKKACkZQ6FWGVYYI9aWijcD52NndXvhKX4YWzCKYeILmBcckW8amdW/76K/41raF4oi1S/wBE1+9zcw+FfC8lzcKCM/aCTEV9ASIz+demW/gDR7X4hXHjKI3H9pXEPlOhZTEOFXcBtyGwoHX14pmgfDvQ/D/9tiAT3UetOxuY7plZQpLExrhRhfnbjnr1pLmUfO3425f+CDs3/W17v/I5zSfHfi6DWPD58V6ZpMel+JG22ZsJJDNbMV3IJN3DZBA+XHc+xoW/xS8Tx+Fda8R3+maWdPsLiWyt0haQTTz+YqR/LkgKNx3c5OOAK6fw/wDCzRfD2sW2oJfatqDWKsthBqF35sVkG4PlLgY445zx781ZT4b6GPB2o+Gpzc3FhqE8lxIZJBvR2YNlSAMYIBGQenOaH/n+a/G19fQSvdX8v1/4GhwkN94ps/jAl94l06xuNUg8MzyRW+kyOVnAk3KgDAsrZ+XvntnpXS/C7xxq3jMXzaxc6JvgCj7HYpPHcW7c7llWX04GVyMg81Z034U6ZpmoPqEeua/PfPYPYfari+3yqjHIZWK5Vl7YwBjpnJrS8LeA7Dwrf3d/HqGqarf3aLHJd6pdefIEXogOBxnmmtH/AF3Y5Xa89PyR09ct49WybStPXVbT7ZZnUYfNg+ytcbxzx5aqxb6AGupqrfafFqH2bzmdfs063CbCBllzgHjpzUtXt6r8w6P0f5HFaZcXGmXslt4Z0wabY6tcrFp8V1bPDHAUiZppvs52sqnaAE+Tc2W4B3G9e+I9b0y1v7W6S2nvrN4Ga7tbKaSNYZS37w26szkqUYFQ57NkDIHQ6vo8OsQwiSWa2nt5RNb3VuVEkD4I3LuBByCQQQQQTkVTTwy0VrKIta1JL6aRZJdRBhMz7QQFKmPy9oBxgIB36kmq/r+v6/4C/r+v6/4OaNRmvLzQTFPo2oXV1BdmHU4LYvGmAMGMeYSAeNwD84xkVnaTfaknh3wo+sPY6nPeX6pHNLatuhHkysGBaRiXyuN3HBIx3rprHwvZ2M1jNHLcSS2ZnffIwJmeY5kd8ADJPOFwBngY4qK18JW1tBYwm+vJotPvDd2qSGP918jKI8hASgDnGct0+alZ839dyo6Jp+f5GbbeMbqTTNNknihW6WO5k1NFRsRi2ykuwZ4zJtAyTwT1qPw34t1TVdWtY7q2ke2vYmk+TR7u2FocblDTSjZKCMjcAnIGBg8dBbeHrG11TUr5Q7tqKqs0TkGNQAc7VxxuySfU1Ho3h5tGZUTWNRurSJPLgtLhoykK9gCqB2wOBvZvz5pre7/rf/gf8AT8v6/rUraz4guNJ1K4tzHGyvp5ns8g5kmVwhQ885MkWMAdTz6ZY8bXq6dFObW3lnjsUN1AjkYu5JhCkYbnCb1lBJBOAPcV0Wq6Daaxeadc3TTLJp8/nx+U+0Ocfdf1XIVseqr6VWj8I6WkOrwuJpY9WmMs6tJjyyecRkYKgNlxjkMzHPNC8/6/q/4IfX+v66fiULrWdd0Np4tWk0+8d7C4ureW2tnhCPEASjq0jlgdwOQR0IxyKbHrPiGaDSbUNp0epatEbkMbeR4rSJUQsCN4MrbnAByg5zjjBvx+FI2juP7T1XUNUmmtntVnuvKDQxuPmCCONVycDJIJ4HOOKnvvDsN3a2KQ3l1ZXGnjbbXduU8xBt2kEOrIwI6gqR0IwQCEt3fy/X/gf1q12+f6f8EpeD/tQn18agYWuRqZDtACEY+RF8wByRkc4ycZxk4yX2eoazq+pT3GnzWEGl2101s0c1u7zT+W22Rg4dQnIYAbWztznnAv6NokGiR3SwT3Fw13cG4mkuHDMzlVBPAGAducdBnAwMAQJ4cEGryXtlqd/awzS+fPYxGMwyyd2O5C65wMhWUHGccnNPdei+/T/gi6P1f3a/8AAMiDxHrcul2viIix/si6ljC2YhcXCxSOEWTzd+0n5gxXZ0yNxxk2I/E14/hu+1AxQebb6pJZou07Si3PlAnnrt59M9u1WIfB9tDOqjUL59NjmE8elu0ZgRw28YOzzMBvmClyoOBjAAEd14Ktbue48zU9RWzuLlLtrFJEESzKyvuB2b+WTJUsVyTx0xOv9fL/AIP9bVp+P+f/AAP63y9Q8U69B/wkl7ANNTT9AuQrpJDI0lxEIY5HAYOAjAO2DhgcjgYydHTpNYf4haqkuo276clrbult9ncMu4y4w3mEA8cnbzx0xzcufCljdadrtlJLcCPXXZ7kqy5QtEsR2ccfKgPOec/SrK6KkfiA6tDd3MbyQLBNbgoYpQpYqTlSwI3t90jPfOKvSy9P0V/xJab/AK89DSrnvHdvFd+CNRtrhd0UypG65IypdQRke1dDVXU9Pi1XTpLO4Z1jk25KEA8MD3B9KzkrxaGcXcXVxa2EPh/U5nmu9O1OxMU7jm5t2uF8t892GCre654DCnT+OdQfWLn+z7aWa0tb02jWyaNdzPNtfY7i4QeUmDuwuG+7yw3fL0uteGbHXb3Tbu7aaOfTbgTwvC+3dgg7G4OUJVSR6qD2qMeGhDq0t3ZatqFpDPMJ57KFo/JlfjJ+ZC65wMhWUHk9Sc2n38/0/wAmJrqvL9f80ZFz4j159Nu9asF09NPgumto7W4hk81wk3lNIZA+ByGIXYcgD5hnhfEviy60fV9lnc2s8ULwrcWaafPPIu9gCXnQ7IDtbIDrzjrg8UtT8O317f3OnafZ6xa2FxeLPJ5txbLZ7vMV3kXaxnycEhDhSx5AFbt/4Ot7+6u3OpahBb3kiTT2kMiLG8i7cPkoXHCKCA2045HJzKvo/wCv6/r0H1/r+v6+eLeXWsWw8bT39zYX9jaW7vFZTWblT+4DBTmUgrjhgFG4knjpVt/FF5Z2+qWv2e2S6gitW01EjYI4nASMMM9pQ4OMfKB9a1b3wvBfTaqz3t5HDq1qbe5t4ymwkrs8wEoWDbeOu3jpmppvDtlPqem3ztMJdOUrGFYBZAVwN4x82OSPQnNEdNH/AFv/AMAttW031/T/AIJzF5431NdVulsbaSeGyuRbPbRaNdzNckEB2WdB5ceMnCkN93kjPy7XjVTDosOqpw2k3cV4TjOI1bEv/kNnqc+GgmrTXllq2oWUVxKJbizgMXlTOAAWO5C6kgAHYy5xnqSTq3lpDf2M9pdIHguI2ikQ/wASsMEfkaNVFPqvz/4cWnNrt+n/AAxwsd+bTx7deI7ifFhcedpijPGIE8wH671uR+VT+HpdcNnFpWlGzsbmK2S+vZ7y3acNNcM7mNVR4+hySxPcDHetSXwHpM/gy28NTSXT2duyuJWkBmdg24lmxg7ssG45DEVd1Hw6t5qH2+y1K90q7aIQyy2XlEzICSqsJEdeCWwQARk80+lv69fm/u/AnV6/1/VjFt/FGs6pquk2NhHY2rXVrcy3TzI8wieCaONggDJuBLMBnHUHttNTWNS1nWPD8+oJ9ii0s38cMds8T+eVS6VPMMm7byVJCbOhHzV09p4asLHULG7tfNRrG1ktY0L7gyyMjszE8lsoDnPc5zmqE/gizm82L+0dQjsJLkXYsI5EESTeYJSwOzfy4JKlivzHgcYcrNJL+tf8v66gv6+7/P8AroWvFt3Na6LGltcNbPd3cFoZ16xrJKqEg9jgkA9iRVa50jw94O02816x0S2juLO2kkeW3iAmnAGSGf7zkkDlicnnrW5f2FtqdhLZ30fmwTLtddxU/UEYIIPII5B5FZlv4aKxTW+pazqOrWcsLQm1vTDs2kYOSkasxxxlmPr15pdH/X9f8EfVN7f1/XyKianrum6lYR62+nzQ6kzxxpawPG1tII2kClmdhIMIw3YTkDjnAbp/ia8utC8KXskUAk1l0W4CqcKGgkkO3njlB1zxmrun+GVsryG4utU1DUvsylbVLxoytuCMEjYiljt43OWOM88nNaz8E2tnc2D/ANp6jNBps5msrWSSPy7fKuuwYQMy4fA3FiMDBHOaVhrbXe342M2w8T6/Lb2Op3qacmn3GpNYNbpE/m4854klD7sDkLlNp4yd3YaHhJtYe+1z+1tQt7uKO/aOJI7d0KfIh4LSN8uD90Ac5OecC6nheyTSbbTxLP5VveC8Riy7i4lMuDx03HHrjv3qxYaOun6nf3cN3cNHfSCV7Z9hjR9oUsvy7uQoyCxHoBUx8/P9P+CQ03/Xr/mjRooooKCk3r/eH50tVKALW9f7w/Ojev8AeH51VooAtb1/vD86N6/3h+dVaKALW9f7w/Ojev8AeH51VooAtb1/vD86N6/3h+dVaKALW9f7w/Ojev8AeH51VooAtb1/vD86N6/3h+dVaKALW9f7w/Ojev8AeH51VooAtb1/vD86N6/3h+dVaKALW9f7w/Ojev8AeH51VooAtb1/vD86N6/3h+dVaKALW9f7w/Ojev8AeH51VooAtb1/vD86N6/3h+dVaKALW9f7w/Ojev8AeH51VooAtb1/vD86N6/3h+dVaKALW9f7w/Ojev8AeH51VooAtb1/vD86N6/3h+dVaKALW9f7w/Ojev8AeH51VooAtb1/vD86N6/3h+dVaKALW9f7w/Ojev8AeH51VooAtb1/vD86N6/3h+dVaKALW9f7w/Ojev8AeH51VooAtb1/vD86N6/3h+dVaKALQIPQg/SlqGD+L8KmoAKqVbqnQBinxhogvvspupNxnFssn2aXyXlLbfLWXbsZgcggMSMNnG04jtvEiourSairCOzvzaxLa28k0jjYjD5EDMx+Y9B0GexNc5IupaXo2ieHrnTWT7PqVtGt408ZS5VZd+UAYuX2ruYMqgYc5OBm5d6XrUDX5gtbuS1udXaaeGxuUhnmgMKqNjll2/Ooz8yNgHB7EW1/6+z/AJsUtJW/r7X+SN9vE+krpMWo/aHaCaQxRolvI0ryAkFBEF37htbK7cjByODTPD2vf27Nqpj2+TaXYgi/dsj48mNyHVuQwZ2BBAIxgjNc9p2iarpEFhfJpc1y9pfXbtZm8EsximJ2uskjAMw4zuYcFuScZ3PDFtqMdxrV1qll9jN7fCeGIyq7CPyIlG4qSA2VIIGRkHBIwS463b7f5f8ABH/X5m/RRRSAKr399BpthNeXRIiiXcdoyT6AAckk4AA6kgVYrK1vQzrX2XGp3lgbWXzVNsIjubGAWEiODjqOODz1AoAztC1/WNT8M3F7LpcUmox3k1stpHN5aLtlKDc5z0AyxAPQ4U8CtPw7qE+reHLG/vEjjnuIQ8iRZ2qe4GecVneDNFv9FsL+LU7u4uHmv7iWPz/K+40jEN+7UcsCGIPQngDpWh4as59P8M2Fpdp5c8MQV0yDg/UcUu3ohvd+r/M1KKKKYgooooAKKKKACiiigAooooAKKKKACiiigAqC7FybSQWBhW4IwjTAlFPqQME464yM9MjrU9ZuvTajBosz6LbNc3mVVUQoGALAMy7yFJCkkAkAkCkxrcg0XUL+TUb/AEzVpLW4uLMRyefawtEjLIDgFGdyGG0/xHIIPFbNYXhiM28E0H9iajpxLebJPfywSPcyHqxaOVyTwOuABgDgADdqiUFFFFIYUUUUAFFFFABRRRQAUUUUAFFFFABRRRQAUUUUASwfxfhU1QwfxfhU1ABVSrdM8pPT9aAMaz8PaLp1/JfafpFha3cufMuILZEkfJycsBk5PNaNWPKT0/Wjyk9P1oAr0VY8pPT9aPKT0/WgCvRVjyk9P1o8pPT9aAK9FWPKT0/Wjyk9P1oAr0VY8pPT9aPKT0/WgCvRVjyk9P1o8pPT9aAK9FWPKT0/Wjyk9P1oAr0VY8pPT9aPKT0/WgCvRVjyk9P1o8pPT9aAK9FWPKT0/Wjyk9P1oAr0VY8pPT9aPKT0/WgCvRVjyk9P1o8pPT9aAK9FWPKT0/Wjyk9P1oAr0VY8pPT9aPKT0/WgCvRVjyk9P1o8pPT9aAK9FWPKT0/Wjyk9P1oAr0VY8pPT9aPKT0/WgCvRVjyk9P1o8pPT9aAK9FWPKT0/Wjyk9P1oAr0VY8pPT9aPKT0/WgCvRVjyk9P1o8pPT9aAK9FWPKT0/Wjyk9P1oAZB/F+FTUioF+6MUtABRRRQAUV53pmpXMvjDR7+28+Cx1iS42Lc6vJNJMgRmz9lIMcQDKuCjZAIDAFiBDbx33/CBaRef2xqRvdQ1C1jmuDdOT5ZuMbVUnaPlO0kDJ75o6pd/wDOwm7X8j0RLqOS7lt1WUPCqsxaF1Q7s42uRtY8cgE44zjIqauC1Fb+zu9di0q8vmGk29jdQRNcySlwjSNIhLElt6qVOck8egroPDty+qXOo6ss7yWlxN5Nmu8lPLjG0sFzjLPv5HUBfQUf1/X9dAubtFFFAwqnqmqWuj2Ju74yiIOqAQwPM7MxCqAiAsSSR0FXKzdc0uLV7OK2kvZrGQTpLDNblN4dDuGA6sp6Hgg8ZoDoRv4lsU0yO/aDVDDI5jCrpN0ZQfeMR7wOOpAHvUuka7Y65HO+nm4/0eXypVuLSW3ZHwGxtkVT0YHp3rF0vxBPZaFr8+q3X29NFuZYkuwgVrhVRXwQoClwzFDtAGV6A5FbPh/T5NN0O3huSGunBluXH8Uznc5+m4nHtin/AMD8Ra/15GlRRRSGFFFFABRRRQAUUUUAFFFFABRRRQAUUUUAFFFZXiO41O30WQ6HZS3d25EaiFow0YPBceYyqSo5AJGTikwLFhrFhqd1fW9hcLNLYTeRchVP7uTaG25IweCOmfTrV2uF+HxMGu+JLNNHvdOhjuISPtUkLkH7PGMMUkYlj94nnOeTnIruqfQHuFFFFABRRRQAUUUUAFFFFABRRRQAUUUUAFFFFABRRRQAUUUUAFFFR+evoaAKdtoGj2d7JeWmk2MF1LJ5sk8Vsiu74I3FgMk4Zuf9o+tWBp9kttFbi0gEELB44hENqMDkEDGAQec1J56+ho89fQ0AC20CzyTLDGJZVCySBBucDOAT3AyfzNJbW0FnbR29pDHBBEoWOKJAqoB2AHAFL56+ho89fQ0ASUVH56+ho89fQ0ASVV1HS9P1e1+y6tY219b7g3lXMKyJkdDhgRmpvPX0NHnr6GgCNNOso9PSxjs7dLONQqW6xKI1A6ALjAAxVio/PX0NHnr6GgCSio/PX0NHnr6GgCSio/PX0NHnr6GgCSio/PX0NHnr6GgCSio/PX0NHnr6GgCSio/PX0NHnr6GgCSio/PX0NHnr6GgCSio/PX0NHnr6GgCSio/PX0NHnr6GgAjtoIZppYYY45J2DSuqAGQgAAse5wAOewqSo/PX0NHnr6GgCSio/PX0NHnr6GgCSio/PX0NHnr6GgCSio/PX0NHnr6GgCSio/PX0NHnr6GgCSio/PX0NHnr6GgCSio/PX0NHnr6GgCSio/PX0NHnr6GgCSio/PX0NHnr6GgCSimo4fOM8etOoAKqVbqpQAUVzv2u91HWNKs72GTT2Ect5PBFc5zsdURSy4yp3biPYA55FdFR0uK4UUUUDCiiigAooqrqMF1c2Lw2N59imYgeeIhIyLnnaG43YzgkEA8kHpQBaorG8IyzTeD9Mkup5LiZoF3yytlnPqT61s0AFFFFABRRRQAUUUUAFFFFABRRRQAUUUUAFFFFABRRVXUo45dMuEme4SLYS7WpcS7RyQuz5skcfL83pzigC1RXBRa0dK0PWprC8vGtkubeC0S88ye5t2l2KSySEy4y+4K4ycHA2lamXWIdC0XVzHDq9lqMMSSGPVrhrtiHbYsihZJFxuzlUIPGMDK0eYHb0Vyej/AGUNf6fcLr9neS2/mOb69aWSaPkGSIJI6ocnogUjK/KPlqTwnKjahqUVldXcmnoIjFBqEkrXMTkNvLCY+aqnC4DY6MRwQSCOoooooGFFFFABRRRQAUUUUAFFFFABRRRQAUUUUASwfxfhU1QwfxfhU1ABVSrdVKAMH+z9RtdS0y9eRtSmjWW2uXVVi/dyMGD7c4+UoowDkgk8nit6iijpYAooooAKKKKACiiigCjo2nf2Ro1rYeb532eMJ5m3bu98ZOKvUUUAFFFFABRRRQAUUUUAFFFFABRRRQAUUUUAFFFFABVe+jupbN00+5jtrngpLLF5qjBB5XK5BHHBB561YooA50+F5by3vn1a/WXULtYl+02sHlLD5TF4iiMz8hiWyScn24oHhm4vob5te1FLm6uoVgSWzt/IWBFO4FVZn+fcd2SSOF4GOeioo3A5+DRNXE017eavbTal5HkW00diUiiXcGOYzISxYgZ+YcAY28k2tL0q7t76a/1a9hu72WNYQ1vbmCNI1JIAUu5zljklj2wB31qKACiiigAooooAKKKKACiiigAooooAKKKKACiiigCWD+L8KmqGD+L8KmoAKKKKACiora5gvLdZ7SeOeF87ZInDK2Dg4I46iqtvqTXOtXVnDApgtFUSzmTnzWAYIFx2Ugkkj7y8HnABfooooAKKKKACiis3WtVfTIbdLa3F1eXkwgtoGk8tXfaWO5sHaoVWJOCeOATgUAaVFZmi6tLqS3UN7araXtnN5NxCkhkQEqGUo5VdylWHOBzkY4rToAKKKKACiiigAooooAKKKKACiiigAooooAKKKKACiiobyS4is5HsoFuLgD93E8nlqx92wcD1OCcdAelAE1FYNprWr3cV/bDSrRNWsnQNA18/2d1cBgwm8rd0zwU6j0INVYPFOoQQ61NrWlW0MelIpZrG9a481yu4xjfHHggFPb5h70AdRRWNo+sX91qNxp2tadDY3kMSTqLe6NxG8bEj7xRCGBUggrjpgnnGzQAUUUUAFFFFABRRRQAUUUUAFFFFABRRRQAUUUUAFFFFABRRRQBiW9k+oWdpPpt1qOgwRs2bKO2gTf8AOc7leNiM4J+UjIbPWjQv3Osa/byYEpvVnAyMtG8SBW+mUZf+AmtuojbQG7F0YI/tAQxibYN4XOdueuMjOKFp/X9dhWuS0UUUDCiiigArB8TJNDcaRqcUE1xFp92ZLhIIzJII2idCyoOWILKcAE4zgGt6ijXoBheHUknvNV1VoZoIb+dGgSeNo3KJGqbmRgCpJDcEA4xnrW7RRRtsAUUUUAFFFFABRRRQAUUUUAFFFFABRRRQAUUUUAFU9Wnit9KnkuI7qSLbtcWaO0oBOCVEfz5Gc/LyMcc1cooA5XwyGtW1W4soL86UVSSAX0Mi3MkoUiT/AFgErjCxgGTLZyAdoWmGx1KD4bSJHamXUruPz7uFlV2JlbdMoDAhiFZlAPHAFdbRQ9Q6nI+FIIo9du5NHt9TTTXt0EsmqxzrI0wJwENx+9KhScg/ICRt5L111FFO4gooopDCiiigAooooAKKKKACiiigAooooAKKKKACiiigAooooAKKKKACiiigAooooAKKKKACiiigAooooAKKKKACiiigAooooAKKKKACiiigAooooAKKKKACiiigAooooAKKKKACiiigAooooAKKKKACiiigAooooAKKKKACiiigD//Z)"
      ],
      "metadata": {
        "id": "pqJfF-usAPmz"
      }
    },
    {
      "cell_type": "code",
      "source": [
        "# UNQ_C8 (UNIQUE CELL IDENTIFIER, DO NOT EDIT)\n",
        "def get_ratio(freqs, word):\n",
        "    '''\n",
        "    Input:\n",
        "        freqs: dictionary containing the words\n",
        "        word: string to lookup\n",
        "\n",
        "    Output: a dictionary with keys 'positive', 'negative', and 'ratio'.\n",
        "        Example: {'positive': 10, 'negative': 20, 'ratio': 0.5}\n",
        "    '''\n",
        "    pos_neg_ratio = {'positive': 0, 'negative': 0, 'ratio': 0.0}\n",
        "    ### START CODE HERE (REPLACE INSTANCES OF 'None' with your code) ###\n",
        "    # use lookup() to find positive counts for the word (denoted by the integer 1)\n",
        "    pos_neg_ratio['positive'] = lookup(freqs,word,1)\n",
        "\n",
        "    # use lookup() to find negative counts for the word (denoted by integer 0)\n",
        "    pos_neg_ratio['negative'] = lookup(freqs,word,0)\n",
        "\n",
        "    # calculate the ratio of positive to negative counts for the word\n",
        "    pos_neg_ratio['ratio'] = (pos_neg_ratio['positive'] + 1) / (pos_neg_ratio['negative'] + 1)\n",
        "    ### END CODE HERE ###\n",
        "    return pos_neg_ratio"
      ],
      "metadata": {
        "id": "Hl54TfKqBZOU"
      },
      "execution_count": 19,
      "outputs": []
    },
    {
      "cell_type": "code",
      "source": [
        "get_ratio(freqs, 'happi')"
      ],
      "metadata": {
        "colab": {
          "base_uri": "https://localhost:8080/"
        },
        "id": "kZ3DjfsKBeKc",
        "outputId": "8353bc2d-8fc8-4f3a-89c2-32b74be256d0"
      },
      "execution_count": 20,
      "outputs": [
        {
          "output_type": "execute_result",
          "data": {
            "text/plain": [
              "{'negative': 18, 'positive': 161, 'ratio': 8.526315789473685}"
            ]
          },
          "metadata": {},
          "execution_count": 20
        }
      ]
    },
    {
      "cell_type": "markdown",
      "source": [
        "**Implement `get_words_by_threshold(freqs,label,threshold)`**\n",
        "* If we set the label to 1, then we'll look for all words whose threshold of positive/negative is at least as high as that threshold, or higher.\n",
        "* If we set the label to 0, then we'll look for all words whose threshold of positive/negative is at most as low as the given threshold, or lower.\n",
        "* Use the `get_ratio()` function to get a dictionary containing the positive count, negative count, and the ratio of positive to negative counts.\n",
        "* Append a dictionary to a list, where the key is the word, and the dictionary is the dictionary `pos_neg_ratio` that is returned by the `get_ratio()` function. An example key-value pair would have this structure:\n",
        "\n",
        "{'happi':\n",
        "  \n",
        "  {'positive': 10, 'negative': 20, 'ratio': 0.5}\n",
        "\n",
        "}"
      ],
      "metadata": {
        "id": "MoLNol4_Bh5o"
      }
    },
    {
      "cell_type": "code",
      "source": [
        "# UNQ_C9 (UNIQUE CELL IDENTIFIER, DO NOT EDIT)\n",
        "def get_words_by_threshold(freqs, label, threshold):\n",
        "    '''\n",
        "    Input:\n",
        "        freqs: dictionary of words\n",
        "        label: 1 for positive, 0 for negative\n",
        "        threshold: ratio that will be used as the cutoff for including a word in the returned dictionary\n",
        "    Output:\n",
        "        word_set: dictionary containing the word and information on its positive count, negative count, and ratio of positive to negative counts.\n",
        "        example of a key value pair:\n",
        "        {'happi':\n",
        "            {'positive': 10, 'negative': 20, 'ratio': 0.5}\n",
        "        }\n",
        "    '''\n",
        "    word_list = {}\n",
        "\n",
        "    ### START CODE HERE (REPLACE INSTANCES OF 'None' with your code) ###\n",
        "    for key in freqs.keys():\n",
        "        word, _ = key\n",
        "\n",
        "        # get the positive/negative ratio for a word\n",
        "        pos_neg_ratio = get_ratio(freqs, word)\n",
        "\n",
        "        # if the label is 1 and the ratio is greater than or equal to the threshold...\n",
        "        if label == 1 and pos_neg_ratio['ratio'] >= threshold:\n",
        "\n",
        "            # Add the pos_neg_ratio to the dictionary\n",
        "            word_list[word] = pos_neg_ratio #dictionaryname[key]=value\n",
        "\n",
        "        # If the label is 0 and the pos_neg_ratio is less than or equal to the threshold...\n",
        "        elif label == 0 and pos_neg_ratio['ratio'] <= threshold:\n",
        "\n",
        "            # Add the pos_neg_ratio to the dictionary\n",
        "            word_list[word] = pos_neg_ratio\n",
        "\n",
        "        # otherwise, do not include this word in the list (do nothing)\n",
        "\n",
        "    ### END CODE HERE ###\n",
        "    return word_list"
      ],
      "metadata": {
        "id": "N26r2ZnlCLtO"
      },
      "execution_count": 21,
      "outputs": []
    },
    {
      "cell_type": "code",
      "source": [
        "# Test your function: find negative words at or below a threshold\n",
        "get_words_by_threshold(freqs, label=0, threshold=0.05)"
      ],
      "metadata": {
        "colab": {
          "base_uri": "https://localhost:8080/"
        },
        "id": "87fY4f_TCN25",
        "outputId": "04f59361-d451-4570-a02d-ad73a9c7aa01"
      },
      "execution_count": 22,
      "outputs": [
        {
          "output_type": "execute_result",
          "data": {
            "text/plain": [
              "{'26': {'negative': 20, 'positive': 0, 'ratio': 0.047619047619047616},\n",
              " ':(': {'negative': 3663, 'positive': 1, 'ratio': 0.0005458515283842794},\n",
              " ':-(': {'negative': 378, 'positive': 0, 'ratio': 0.002638522427440633},\n",
              " '>:(': {'negative': 43, 'positive': 0, 'ratio': 0.022727272727272728},\n",
              " 'beli̇ev': {'negative': 35, 'positive': 0, 'ratio': 0.027777777777777776},\n",
              " 'justi̇n': {'negative': 35, 'positive': 0, 'ratio': 0.027777777777777776},\n",
              " 'lost': {'negative': 19, 'positive': 0, 'ratio': 0.05},\n",
              " 'wi̇ll': {'negative': 35, 'positive': 0, 'ratio': 0.027777777777777776},\n",
              " 'zayniscomingbackonjuli': {'negative': 19, 'positive': 0, 'ratio': 0.05},\n",
              " '♛': {'negative': 210, 'positive': 0, 'ratio': 0.004739336492890996},\n",
              " '》': {'negative': 210, 'positive': 0, 'ratio': 0.004739336492890996},\n",
              " 'ｍｅ': {'negative': 35, 'positive': 0, 'ratio': 0.027777777777777776},\n",
              " 'ｓｅｅ': {'negative': 35, 'positive': 0, 'ratio': 0.027777777777777776}}"
            ]
          },
          "metadata": {},
          "execution_count": 22
        }
      ]
    },
    {
      "cell_type": "code",
      "source": [
        "# Test your function; find positive words at or above a threshold\n",
        "get_words_by_threshold(freqs, label=1, threshold=10)"
      ],
      "metadata": {
        "colab": {
          "base_uri": "https://localhost:8080/"
        },
        "id": "-3A3Z8JNCPLU",
        "outputId": "57170b17-0c2b-4f01-e4ab-07e40c80ac1e"
      },
      "execution_count": 23,
      "outputs": [
        {
          "output_type": "execute_result",
          "data": {
            "text/plain": [
              "{':)': {'negative': 2, 'positive': 2847, 'ratio': 949.3333333333334},\n",
              " ':-)': {'negative': 0, 'positive': 543, 'ratio': 544.0},\n",
              " ':D': {'negative': 0, 'positive': 498, 'ratio': 499.0},\n",
              " ':p': {'negative': 0, 'positive': 103, 'ratio': 104.0},\n",
              " ';)': {'negative': 0, 'positive': 22, 'ratio': 23.0},\n",
              " 'arriv': {'negative': 4, 'positive': 57, 'ratio': 11.6},\n",
              " 'bam': {'negative': 0, 'positive': 44, 'ratio': 45.0},\n",
              " 'blog': {'negative': 0, 'positive': 27, 'ratio': 28.0},\n",
              " 'commun': {'negative': 1, 'positive': 27, 'ratio': 14.0},\n",
              " 'fav': {'negative': 0, 'positive': 11, 'ratio': 12.0},\n",
              " 'fback': {'negative': 0, 'positive': 26, 'ratio': 27.0},\n",
              " 'flipkartfashionfriday': {'negative': 0, 'positive': 16, 'ratio': 17.0},\n",
              " 'followfriday': {'negative': 0, 'positive': 23, 'ratio': 24.0},\n",
              " 'glad': {'negative': 2, 'positive': 41, 'ratio': 14.0},\n",
              " \"here'\": {'negative': 0, 'positive': 20, 'ratio': 21.0},\n",
              " 'influenc': {'negative': 0, 'positive': 16, 'ratio': 17.0},\n",
              " 'pleasur': {'negative': 0, 'positive': 10, 'ratio': 11.0},\n",
              " 'shout': {'negative': 0, 'positive': 11, 'ratio': 12.0},\n",
              " 'stat': {'negative': 0, 'positive': 51, 'ratio': 52.0},\n",
              " 'via': {'negative': 1, 'positive': 60, 'ratio': 30.5},\n",
              " 'warsaw': {'negative': 0, 'positive': 44, 'ratio': 45.0},\n",
              " 'youth': {'negative': 0, 'positive': 14, 'ratio': 15.0}}"
            ]
          },
          "metadata": {},
          "execution_count": 23
        }
      ]
    },
    {
      "cell_type": "markdown",
      "source": [
        "Notice the difference between the positive and negative ratios. Emojis like :( and words like 'me' tend to have a negative connotation. Other words like 'glad', 'community', and 'arrives' tend to be found in the positive tweets.\n",
        "\n",
        "##**Part 5: Error Analysis**\n",
        "In this part you will see some tweets that your model missclassified. Why do you think the misclassifications happened? Were there any assumptions made by the naive bayes model?"
      ],
      "metadata": {
        "id": "lOGBiPgfCRe6"
      }
    },
    {
      "cell_type": "code",
      "source": [
        "# Some error analysis done for you\n",
        "print('Truth Predicted Tweet')\n",
        "for x, y in zip(test_x, test_y):\n",
        "    y_hat = naive_bayes_predict(x, logprior, loglikelihood)\n",
        "    if y != (np.sign(y_hat) > 0):\n",
        "        print('%d\\t%0.2f\\t%s' % (y, np.sign(y_hat) > 0, ' '.join(\n",
        "            process_tweet(x)).encode('ascii', 'ignore')))"
      ],
      "metadata": {
        "colab": {
          "base_uri": "https://localhost:8080/"
        },
        "id": "Mo4c53mOCVbz",
        "outputId": "678bb81a-f796-41f2-8962-b34d0e20c5f1"
      },
      "execution_count": 24,
      "outputs": [
        {
          "output_type": "stream",
          "name": "stdout",
          "text": [
            "Truth Predicted Tweet\n",
            "1\t0.00\tb''\n",
            "1\t0.00\tb'truli later move know queen bee upward bound movingonup'\n",
            "1\t0.00\tb'new report talk burn calori cold work harder warm feel better weather :p'\n",
            "1\t0.00\tb'harri niall 94 harri born ik stupid wanna chang :D'\n",
            "1\t0.00\tb''\n",
            "1\t0.00\tb''\n",
            "1\t0.00\tb'park get sunlight'\n",
            "1\t0.00\tb'uff itna miss karhi thi ap :p'\n",
            "0\t1.00\tb'hello info possibl interest jonatha close join beti :( great'\n",
            "0\t1.00\tb'u prob fun david'\n",
            "0\t1.00\tb'pat jay'\n",
            "0\t1.00\tb'whatev stil l young >:-('\n"
          ]
        }
      ]
    },
    {
      "cell_type": "markdown",
      "source": [
        "##**Part 6: Predict with your own tweet**\n",
        "In this part you can predict the sentiment of your own tweet."
      ],
      "metadata": {
        "id": "nBImEORDCXK-"
      }
    },
    {
      "cell_type": "code",
      "source": [
        "# Test with your own tweet - feel free to modify `my_tweet`\n",
        "my_tweet = 'I am happy because I am learning :)'\n",
        "\n",
        "p = naive_bayes_predict(my_tweet, logprior, loglikelihood)\n",
        "print(p)"
      ],
      "metadata": {
        "colab": {
          "base_uri": "https://localhost:8080/"
        },
        "id": "54ohvSL9Cali",
        "outputId": "28ea49ae-ae30-400c-c4c5-613f6e6b6e48"
      },
      "execution_count": 25,
      "outputs": [
        {
          "output_type": "stream",
          "name": "stdout",
          "text": [
            "9.574768961173339\n"
          ]
        }
      ]
    },
    {
      "cell_type": "markdown",
      "source": [
        "Congratulations on completing this assignment. See you next week!"
      ],
      "metadata": {
        "id": "ZHE6hSH-CeKq"
      }
    }
  ]
}