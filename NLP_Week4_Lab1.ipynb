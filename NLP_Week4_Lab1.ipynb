{
  "nbformat": 4,
  "nbformat_minor": 0,
  "metadata": {
    "colab": {
      "name": "NLP_Week4_Lab1.ipynb",
      "provenance": [],
      "collapsed_sections": [],
      "authorship_tag": "ABX9TyNIVLcDYVkGT22npl4wRxgs",
      "include_colab_link": true
    },
    "kernelspec": {
      "name": "python3",
      "display_name": "Python 3"
    },
    "language_info": {
      "name": "python"
    }
  },
  "cells": [
    {
      "cell_type": "markdown",
      "metadata": {
        "id": "view-in-github",
        "colab_type": "text"
      },
      "source": [
        "<a href=\"https://colab.research.google.com/github/jllibbi/NLPSpecialization_deeplearningai/blob/main/NLP_Week4_Lab1.ipynb\" target=\"_parent\"><img src=\"https://colab.research.google.com/assets/colab-badge.svg\" alt=\"Open In Colab\"/></a>"
      ]
    },
    {
      "cell_type": "markdown",
      "source": [
        "#**Vector manipulation in Python**\n",
        "In this lab, you will have the opportunity to practice once again with the NumPy library. This time, we will explore some advanced operations with arrays and matrices.\n",
        "\n",
        "At the end of the previous module, we used PCA to transform a set of many variables into a set of only two uncorrelated variables. This process was made through a transformation of the data called rotation.\n",
        "\n",
        "In this week's assignment, you will need to find a transformation matrix from English to French vector space embeddings. Such a transformation matrix is nothing else but a matrix that rotates and scales vector spaces.\n",
        "\n",
        "In this notebook, we will explain in detail the rotation transformation."
      ],
      "metadata": {
        "id": "rz-zUuOq-_ft"
      }
    },
    {
      "cell_type": "markdown",
      "source": [
        "##**Transforming vectors**\n",
        "\n",
        "There are three main vector transformations:\n",
        "\n",
        "* Scaling\n",
        "* Translation\n",
        "* Rotation\n",
        "\n",
        "In previous notebooks, we have applied the first two kinds of transformations. Now, let us learn how to use a fundamental transformation on vectors called rotation.\n",
        "\n",
        "The rotation operation changes the direction of a vector, letting unaffected its dimensionality and its norm. Let us explain with some examples.\n",
        "\n",
        "In the following cells, we will define a NumPy matrix and a NumPy array. Soon we will explain how this is related to matrix rotation."
      ],
      "metadata": {
        "id": "6jo3aEf4_Edm"
      }
    },
    {
      "cell_type": "code",
      "execution_count": 1,
      "metadata": {
        "id": "wtUeAENS-s9H"
      },
      "outputs": [],
      "source": [
        "import numpy as np                     # Import numpy for array manipulation\n",
        "import matplotlib.pyplot as plt        # Import matplotlib for charts"
      ]
    },
    {
      "cell_type": "code",
      "source": [
        "def plot_vectors(vectors, colors=['k', 'b', 'r', 'm', 'c'], axes=None, fname='image.svg', ax=None):\n",
        "    scale = 1\n",
        "    scale_units = 'x'\n",
        "    x_dir = []\n",
        "    y_dir = []\n",
        "    \n",
        "    for i, vec in enumerate(vectors):\n",
        "        x_dir.append(vec[0][0])\n",
        "        y_dir.append(vec[0][1])\n",
        "    \n",
        "    if ax == None:\n",
        "        fig, ax2 = plt.subplots()\n",
        "    else:\n",
        "        ax2 = ax\n",
        "      \n",
        "    if axes == None:\n",
        "        x_axis = 2 + np.max(np.abs(x_dir))\n",
        "        y_axis = 2 + np.max(np.abs(y_dir))\n",
        "    else:\n",
        "        x_axis = axes[0]\n",
        "        y_axis = axes[1]\n",
        "        \n",
        "    ax2.axis([-x_axis, x_axis, -y_axis, y_axis])\n",
        "        \n",
        "    for i, vec in enumerate(vectors):\n",
        "        ax2.arrow(0, 0, vec[0][0], vec[0][1], head_width=0.05 * x_axis, head_length=0.05 * y_axis, fc=colors[i], ec=colors[i])\n",
        "    \n",
        "    if ax == None:\n",
        "        plt.show()\n",
        "        fig.savefig(fname)"
      ],
      "metadata": {
        "id": "vZS8fc4vANoZ"
      },
      "execution_count": 2,
      "outputs": []
    },
    {
      "cell_type": "markdown",
      "source": [
        "##**Example 1**"
      ],
      "metadata": {
        "id": "hki3WFvvAUwW"
      }
    },
    {
      "cell_type": "code",
      "source": [
        "# Create a 2 x 2 matrix\n",
        "R = np.array([[2, 0],\n",
        "              [0, -2]])"
      ],
      "metadata": {
        "id": "YZpXNbK6AJu7"
      },
      "execution_count": 3,
      "outputs": []
    },
    {
      "cell_type": "code",
      "source": [
        "x = np.array([[1, 1]]) # Create a 1 x 2 matrix"
      ],
      "metadata": {
        "id": "-H9G3FjWAQhP"
      },
      "execution_count": 4,
      "outputs": []
    },
    {
      "cell_type": "markdown",
      "source": [
        "The dot product between a vector and a square matrix produces a rotation and a scaling of the original vector.\n",
        "\n",
        "Remember that our recommended way to get the dot product in Python is np.dot(a, b):"
      ],
      "metadata": {
        "id": "ryhMyMXsAaWi"
      }
    },
    {
      "cell_type": "code",
      "source": [
        "y = np.dot(x, R) # Apply the dot product between x and R\n",
        "y"
      ],
      "metadata": {
        "colab": {
          "base_uri": "https://localhost:8080/"
        },
        "id": "IZv6YbqiAdKV",
        "outputId": "17ebb3af-f0b8-4b27-fff5-a93fc12f7010"
      },
      "execution_count": 5,
      "outputs": [
        {
          "output_type": "execute_result",
          "data": {
            "text/plain": [
              "array([[ 2, -2]])"
            ]
          },
          "metadata": {},
          "execution_count": 5
        }
      ]
    },
    {
      "cell_type": "markdown",
      "source": [
        "We are going to use Pyplot to inspect the effect of the rotation on 2D vectors visually. For that, we have created a function `plot_vectors()` that takes care of all the intricate parts of the visual formatting. The code for this function is inside the `utils_nb.py` file.\n",
        "\n",
        "Now we can plot the vector  𝑥⃗ =[1,1]  in a cartesian plane. The cartesian plane will be centered at `[0,0]` and its x and y limits will be between `[-4, +4]`"
      ],
      "metadata": {
        "id": "0O73lZIsAf9K"
      }
    },
    {
      "cell_type": "code",
      "source": [
        "plot_vectors([x], axes=[4, 4], fname='transform_x.svg')"
      ],
      "metadata": {
        "colab": {
          "base_uri": "https://localhost:8080/",
          "height": 269
        },
        "id": "f_lpC_-6Ar7l",
        "outputId": "dc8d61a2-4c6f-4f93-be1d-ce8104134c98"
      },
      "execution_count": 6,
      "outputs": [
        {
          "output_type": "display_data",
          "data": {
            "text/plain": [
              "<Figure size 432x288 with 1 Axes>"
            ],
            "image/png": "[encoded data removed]"
          },
          "metadata": {
            "needs_background": "light"
          }
        }
      ]
    },
    {
      "cell_type": "markdown",
      "source": [
        "Now, let's plot in the same system our vector  𝑥⃗ =[1,1]  and its dot product with the matrix\n",
        "\n",
        "![image.png](data:image/png;base64,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)"
      ],
      "metadata": {
        "id": "N96zP-HJAweQ"
      }
    },
    {
      "cell_type": "code",
      "source": [
        "plot_vectors([x, y], axes=[4, 4], fname='transformx_and_y.svg')"
      ],
      "metadata": {
        "colab": {
          "base_uri": "https://localhost:8080/",
          "height": 269
        },
        "id": "YKE9HEcwA2a2",
        "outputId": "f1aab55b-4b36-4bca-9183-c4d027ba9c4d"
      },
      "execution_count": 7,
      "outputs": [
        {
          "output_type": "display_data",
          "data": {
            "text/plain": [
              "<Figure size 432x288 with 1 Axes>"
            ],
            "image/png": "[encoded data removed]"
          },
          "metadata": {
            "needs_background": "light"
          }
        }
      ]
    },
    {
      "cell_type": "markdown",
      "source": [
        "Note that the output vector `y` (blue) is transformed in another vector."
      ],
      "metadata": {
        "id": "CDboOGjPA5VO"
      }
    },
    {
      "cell_type": "markdown",
      "source": [
        "##**Example 2**\n",
        "We are going to use Pyplot to inspect the effect of the rotation on 2D vectors visually. For that, we have created a function that takes care of all the intricate parts of the visual formatting. The following procedure plots an arrow within a Pyplot canvas.\n",
        "\n",
        "Data that is composed of 2 real attributes is telling to belong to a  $𝑅𝑥𝑅$  or  $𝑅^2$  space. Rotation matrices in $𝑅^2$  rotate a given vector  𝑥⃗   by a counterclockwise angle  𝜃  in a fixed coordinate system. Rotation matrices are of the form:\n",
        "\n",
        "![image.png](data:image/png;base64,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)\n",
        "\n",
        "Then the rotation matrices in  $𝑅^2$  rotate a given vector  𝑥⃗   by a clockwise angle  𝜃  in a fixed coordinate system.)\n",
        "\n",
        "The trigonometric functions in Numpy require the angle in radians, not in degrees. In the next cell, we define a rotation matrix that rotates vectors by  $100^𝑜$ ."
      ],
      "metadata": {
        "id": "kaNElGcXA88T"
      }
    },
    {
      "cell_type": "code",
      "source": [
        "angle = 100 * (np.pi / 180) #convert degrees to radians\n",
        "\n",
        "Ro = np.array([[np.cos(angle), -np.sin(angle)],\n",
        "              [np.sin(angle), np.cos(angle)]])\n",
        "\n",
        "x2 = np.array([2, 2]).reshape(1, -1) # make it a row vector\n",
        "y2 = np.dot(x2, Ro)\n",
        "\n",
        "print('Rotation matrix')\n",
        "print(Ro)\n",
        "print('\\nRotated vector')\n",
        "print(y2)\n",
        "\n",
        "print('\\n x2 norm', np.linalg.norm(x2))\n",
        "print('\\n y2 norm', np.linalg.norm(y2))\n",
        "print('\\n Rotation matrix norm', np.linalg.norm(Ro))"
      ],
      "metadata": {
        "colab": {
          "base_uri": "https://localhost:8080/"
        },
        "id": "3X6nfBrfBdaI",
        "outputId": "2c020abe-71c9-40a1-ffb4-9e78dd25df39"
      },
      "execution_count": 8,
      "outputs": [
        {
          "output_type": "stream",
          "name": "stdout",
          "text": [
            "Rotation matrix\n",
            "[[-0.17364818 -0.98480775]\n",
            " [ 0.98480775 -0.17364818]]\n",
            "\n",
            "Rotated vector\n",
            "[[ 1.62231915 -2.31691186]]\n",
            "\n",
            " x2 norm 2.8284271247461903\n",
            "\n",
            " y2 norm 2.82842712474619\n",
            "\n",
            " Rotation matrix norm 1.414213562373095\n"
          ]
        }
      ]
    },
    {
      "cell_type": "code",
      "source": [
        "plot_vectors([x2, y2], fname='transform_02.svg')"
      ],
      "metadata": {
        "colab": {
          "base_uri": "https://localhost:8080/",
          "height": 265
        },
        "id": "HoNjFT1oBjjT",
        "outputId": "147084ca-7d84-411e-b0cc-77266370f66d"
      },
      "execution_count": 9,
      "outputs": [
        {
          "output_type": "display_data",
          "data": {
            "text/plain": [
              "<Figure size 432x288 with 1 Axes>"
            ],
            "image/png": "[encoded data removed]"
          },
          "metadata": {
            "needs_background": "light"
          }
        }
      ]
    },
    {
      "cell_type": "markdown",
      "source": [
        "Some points to note:\n",
        "\n",
        "* The norm of the input vector is the same as the norm of the output vector. Rotations matrices do not modify the norm of the vector, only its direction.\n",
        "* The norm of any  $𝑅^2$  rotation matrix is always  $\\sqrt 2$ =1.414221"
      ],
      "metadata": {
        "id": "5PUl6gn6Bo7Q"
      }
    },
    {
      "cell_type": "markdown",
      "source": [
        "##**Frobenius Norm**\n",
        "The Frobenius norm is the generalization to  𝑅2  of the already known norm function for vectors\n",
        "\n",
        "![image.png](data:image/png;base64,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)"
      ],
      "metadata": {
        "id": "zQyH5BhOCEO1"
      }
    },
    {
      "cell_type": "code",
      "source": [
        "A = np.array([[2, 2],\n",
        "              [2, 2]])"
      ],
      "metadata": {
        "id": "rBINj2LHCCVp"
      },
      "execution_count": 10,
      "outputs": []
    },
    {
      "cell_type": "markdown",
      "source": [
        "`np.square()` is a way to square each element of a matrix. It must be equivalent to use the * operator in Numpy arrays."
      ],
      "metadata": {
        "id": "jDf_a6YcCQ0b"
      }
    },
    {
      "cell_type": "code",
      "source": [
        "A_squared = np.square(A)\n",
        "A_squared"
      ],
      "metadata": {
        "colab": {
          "base_uri": "https://localhost:8080/"
        },
        "id": "RBEm5wUHCURE",
        "outputId": "7994abae-e293-4ba0-a0fb-d50fc392ffd9"
      },
      "execution_count": 11,
      "outputs": [
        {
          "output_type": "execute_result",
          "data": {
            "text/plain": [
              "array([[4, 4],\n",
              "       [4, 4]])"
            ]
          },
          "metadata": {},
          "execution_count": 11
        }
      ]
    },
    {
      "cell_type": "markdown",
      "source": [
        "Now you can sum over the elements of the resulting array, and then get the square root of the sum."
      ],
      "metadata": {
        "id": "X79tb1o_CWcM"
      }
    },
    {
      "cell_type": "code",
      "source": [
        "A_Frobenius = np.sqrt(np.sum(A_squared))\n",
        "A_Frobenius"
      ],
      "metadata": {
        "colab": {
          "base_uri": "https://localhost:8080/"
        },
        "id": "U6nWWsr-CYYD",
        "outputId": "232f9655-011c-4c5a-c0f4-66a28dab6297"
      },
      "execution_count": 12,
      "outputs": [
        {
          "output_type": "execute_result",
          "data": {
            "text/plain": [
              "4.0"
            ]
          },
          "metadata": {},
          "execution_count": 12
        }
      ]
    },
    {
      "cell_type": "markdown",
      "source": [
        "That was the extended version of the `np.linalg.norm()` function. You can check that it yields the same result."
      ],
      "metadata": {
        "id": "Uxf_n6wlCbHD"
      }
    },
    {
      "cell_type": "code",
      "source": [
        "print('Frobenius norm of the Rotation matrix')\n",
        "print(np.sqrt(np.sum(Ro * Ro)), '== ', np.linalg.norm(Ro))"
      ],
      "metadata": {
        "colab": {
          "base_uri": "https://localhost:8080/"
        },
        "id": "9lpKwcvaCeG7",
        "outputId": "f7420105-bee4-45ed-df38-15faee7c7e61"
      },
      "execution_count": 13,
      "outputs": [
        {
          "output_type": "stream",
          "name": "stdout",
          "text": [
            "Frobenius norm of the Rotation matrix\n",
            "1.414213562373095 ==  1.414213562373095\n"
          ]
        }
      ]
    },
    {
      "cell_type": "markdown",
      "source": [
        "**Congratulations!! We've covered a few more matrix operations in this lab. This will come in handy in this week's programming assignment!**"
      ],
      "metadata": {
        "id": "RwrKPqdUChnc"
      }
    }
  ]
}