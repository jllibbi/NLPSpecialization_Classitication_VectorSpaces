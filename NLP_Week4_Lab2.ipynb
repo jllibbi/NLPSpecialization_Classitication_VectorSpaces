{
  "nbformat": 4,
  "nbformat_minor": 0,
  "metadata": {
    "colab": {
      "name": "NLP_Week4_Lab2.ipynb",
      "provenance": [],
      "collapsed_sections": [],
      "authorship_tag": "ABX9TyMsPU1Fd2itYWq7KX3/0pWD",
      "include_colab_link": true
    },
    "kernelspec": {
      "name": "python3",
      "display_name": "Python 3"
    },
    "language_info": {
      "name": "python"
    }
  },
  "cells": [
    {
      "cell_type": "markdown",
      "metadata": {
        "id": "view-in-github",
        "colab_type": "text"
      },
      "source": [
        "<a href=\"https://colab.research.google.com/github/jllibbi/NLPSpecialization_deeplearningai/blob/main/NLP_Week4_Lab2.ipynb\" target=\"_parent\"><img src=\"https://colab.research.google.com/assets/colab-badge.svg\" alt=\"Open In Colab\"/></a>"
      ]
    },
    {
      "cell_type": "markdown",
      "source": [
        "#**Hash functions and multiplanes**\n",
        "In this lab, we are going to practice the most important concepts related to the hash functions explained in the videos. You will be using these in this week's assignment.\n",
        "\n",
        "A key point for the lookup using hash functions is the calculation of the hash key or bucket id that we assign for a given entry. In this notebook, we will cover:\n",
        "\n",
        "* Basic hash tables\n",
        "* Multiplanes\n",
        "* Random planes\n",
        "\n",
        "##**Basic Hash tables**\n",
        "Hash tables are data structures that allow indexing data to make lookup tasks more efficient. In this part, you will see the implementation of the simplest hash function."
      ],
      "metadata": {
        "id": "UkiAKX3F3-gG"
      }
    },
    {
      "cell_type": "code",
      "execution_count": 1,
      "metadata": {
        "id": "6hoqOiKFt0mE"
      },
      "outputs": [],
      "source": [
        "import numpy as np                # library for array and matrix manipulation\n",
        "import pprint                     # utilities for console printing \n",
        "import matplotlib.pyplot as plt   # visualization library\n",
        "\n",
        "pp = pprint.PrettyPrinter(indent=4) # Instantiate a pretty printer"
      ]
    },
    {
      "cell_type": "code",
      "source": [
        "def plot_vectors(vectors, colors=['k', 'b', 'r', 'm', 'c'], axes=None, fname='image.svg', ax=None):\n",
        "    scale = 1\n",
        "    scale_units = 'x'\n",
        "    x_dir = []\n",
        "    y_dir = []\n",
        "    \n",
        "    for i, vec in enumerate(vectors):\n",
        "        x_dir.append(vec[0][0])\n",
        "        y_dir.append(vec[0][1])\n",
        "    \n",
        "    if ax == None:\n",
        "        fig, ax2 = plt.subplots()\n",
        "    else:\n",
        "        ax2 = ax\n",
        "      \n",
        "    if axes == None:\n",
        "        x_axis = 2 + np.max(np.abs(x_dir))\n",
        "        y_axis = 2 + np.max(np.abs(y_dir))\n",
        "    else:\n",
        "        x_axis = axes[0]\n",
        "        y_axis = axes[1]\n",
        "        \n",
        "    ax2.axis([-x_axis, x_axis, -y_axis, y_axis])\n",
        "        \n",
        "    for i, vec in enumerate(vectors):\n",
        "        ax2.arrow(0, 0, vec[0][0], vec[0][1], head_width=0.05 * x_axis, head_length=0.05 * y_axis, fc=colors[i], ec=colors[i])\n",
        "    \n",
        "    if ax == None:\n",
        "        plt.show()\n",
        "        fig.savefig(fname)\n"
      ],
      "metadata": {
        "id": "_XVsXmlKEmDS"
      },
      "execution_count": 2,
      "outputs": []
    },
    {
      "cell_type": "markdown",
      "source": [
        "In the next cell, we will define a straightforward hash function for integer numbers. The function will receive a list of integer numbers and the desired amount of buckets. The function will produce a hash table stored as a dictionary, where keys contain the hash keys, and the values will provide the hashed elements of the input list.\n",
        "\n",
        "The hash function is just the remainder of the integer division between each element and the desired number of buckets.\n",
        "\n",
        "def basic_hash_table(value_l, n_buckets):"
      ],
      "metadata": {
        "id": "_g_-RjPREstG"
      }
    },
    {
      "cell_type": "code",
      "source": [
        "def basic_hash_table(value_l, n_buckets):\n",
        "    \n",
        "    def hash_function(value, n_buckets):\n",
        "        return int(value) % n_buckets\n",
        "    \n",
        "    hash_table = {i:[] for i in range(n_buckets)} # Initialize all the buckets in the hash table as empty lists\n",
        "\n",
        "    for value in value_l:\n",
        "        hash_value = hash_function(value,n_buckets) # Get the hash key for the given value\n",
        "        hash_table[hash_value].append(value) # Add the element to the corresponding bucket\n",
        "    \n",
        "    return hash_table"
      ],
      "metadata": {
        "id": "fseLV3gWEucV"
      },
      "execution_count": 4,
      "outputs": []
    },
    {
      "cell_type": "markdown",
      "source": [
        "Now let's see the hash table function in action. The pretty print function (`pprint()`) will produce a visually appealing output."
      ],
      "metadata": {
        "id": "57vZtwkjExXf"
      }
    },
    {
      "cell_type": "code",
      "source": [
        "value_l = [100, 10, 14, 17, 97] # Set of values to hash\n",
        "hash_table_example = basic_hash_table(value_l, n_buckets=10)\n",
        "pp.pprint(hash_table_example)"
      ],
      "metadata": {
        "colab": {
          "base_uri": "https://localhost:8080/"
        },
        "id": "Vx1pOBvTE0bC",
        "outputId": "770c4d9a-b3de-439e-9bb6-25de37c771bd"
      },
      "execution_count": 5,
      "outputs": [
        {
          "output_type": "stream",
          "name": "stdout",
          "text": [
            "{   0: [100, 10],\n",
            "    1: [],\n",
            "    2: [],\n",
            "    3: [],\n",
            "    4: [14],\n",
            "    5: [],\n",
            "    6: [],\n",
            "    7: [17, 97],\n",
            "    8: [],\n",
            "    9: []}\n"
          ]
        }
      ]
    },
    {
      "cell_type": "markdown",
      "source": [
        "In this case, the bucket key must be the rightmost digit of each number.\n",
        "\n",
        "##**Planes**\n",
        "Multiplanes hash functions are other types of hash functions. Multiplanes hash functions are based on the idea of numbering every single region that is formed by the intersection of n planes. In the following code, we show the most basic forms of the multiplanes principle. First, with a single plane:"
      ],
      "metadata": {
        "id": "nkupCORYE2Ll"
      }
    },
    {
      "cell_type": "code",
      "source": [
        "P = np.array([[1, 1]]) # Define a single plane. \n",
        "fig, ax1 = plt.subplots(figsize=(8, 8)) # Create a plot\n",
        "\n",
        "plot_vectors([P], axes=[2, 2], ax=ax1) # Plot the plane P as a vector\n",
        "\n",
        "# Plot  random points. \n",
        "for i in range(0, 10):\n",
        "        v1 = np.array(np.random.uniform(-2, 2, 2)) # Get a pair of random numbers between -4 and 4 \n",
        "        side_of_plane = np.sign(np.dot(P, v1.T)) \n",
        "        \n",
        "        # Color the points depending on the sign of the result of np.dot(P, point.T)\n",
        "        if side_of_plane == 1:\n",
        "            ax1.plot([v1[0]], [v1[1]], 'bo') # Plot blue points\n",
        "        else:\n",
        "            ax1.plot([v1[0]], [v1[1]], 'ro') # Plot red points\n",
        "\n",
        "plt.show()\n"
      ],
      "metadata": {
        "colab": {
          "base_uri": "https://localhost:8080/",
          "height": 487
        },
        "id": "_apYgLAcFPAW",
        "outputId": "dfc232b8-5358-4db1-960e-96504ece2ed2"
      },
      "execution_count": 6,
      "outputs": [
        {
          "output_type": "display_data",
          "data": {
            "text/plain": [
              "<Figure size 576x576 with 1 Axes>"
            ],
            "image/png": "[encoded data removed]"
          },
          "metadata": {
            "needs_background": "light"
          }
        }
      ]
    },
    {
      "cell_type": "markdown",
      "source": [
        "The first thing to note is that the vector that defines the plane does not mark the boundary between the two sides of the plane. It marks the direction in which you find the 'positive' side of the plane. Not intuitive at all!\n",
        "\n",
        "If we want to plot the separation plane, we need to plot a line that is perpendicular to our vector P. We can get such a line using a  90𝑜  rotation matrix.\n",
        "\n",
        "Feel free to change the direction of the plane `P`."
      ],
      "metadata": {
        "id": "J2OOKBkkFSRv"
      }
    },
    {
      "cell_type": "code",
      "source": [
        "P = np.array([[1, 2]])  # Define a single plane. You may change the direction\n",
        "\n",
        "# Get a new plane perpendicular to P. We use a rotation matrix\n",
        "PT = np.dot([[0, 1], [-1, 0]], P.T).T  \n",
        "\n",
        "fig, ax1 = plt.subplots(figsize=(8, 8)) # Create a plot with custom size\n",
        "\n",
        "plot_vectors([P], colors=['b'], axes=[2, 2], ax=ax1) # Plot the plane P as a vector\n",
        "\n",
        "# Plot the plane P as a 2 vectors. \n",
        "# We scale by 2 just to get the arrows outside the current box\n",
        "plot_vectors([PT * 4, PT * -4], colors=['k', 'k'], axes=[4, 4], ax=ax1)\n",
        "\n",
        "# Plot 20 random points. \n",
        "for i in range(0, 20):\n",
        "        v1 = np.array(np.random.uniform(-4, 4, 2)) # Get a pair of random numbers between -4 and 4 \n",
        "        side_of_plane = np.sign(np.dot(P, v1.T)) # Get the sign of the dot product with P\n",
        "        # Color the points depending on the sign of the result of np.dot(P, point.T)\n",
        "        if side_of_plane == 1:\n",
        "            ax1.plot([v1[0]], [v1[1]], 'bo') # Plot a blue point\n",
        "        else:\n",
        "            ax1.plot([v1[0]], [v1[1]], 'ro') # Plot a red point\n",
        "\n",
        "plt.show()\n"
      ],
      "metadata": {
        "colab": {
          "base_uri": "https://localhost:8080/",
          "height": 487
        },
        "id": "RhFwkQl8FUXI",
        "outputId": "d3a593b8-e673-4b82-f440-f159a9206135"
      },
      "execution_count": 7,
      "outputs": [
        {
          "output_type": "display_data",
          "data": {
            "text/plain": [
              "<Figure size 576x576 with 1 Axes>"
            ],
            "image/png": "[encoded data removed]"
          },
          "metadata": {
            "needs_background": "light"
          }
        }
      ]
    },
    {
      "cell_type": "markdown",
      "source": [
        "Now, let us see what is inside the code that color the points."
      ],
      "metadata": {
        "id": "wsuv3TNQFZbe"
      }
    },
    {
      "cell_type": "code",
      "source": [
        "P = np.array([[1, 1]])      # Single plane\n",
        "v1 = np.array([[1, 2]])     # Sample point 1\n",
        "v2 = np.array([[-1, 1]])    # Sample point 2\n",
        "v3 = np.array([[-2, -1]])   # Sample point 3"
      ],
      "metadata": {
        "id": "vxP4H6WAFa62"
      },
      "execution_count": 8,
      "outputs": []
    },
    {
      "cell_type": "code",
      "source": [
        "np.dot(P, v1.T)"
      ],
      "metadata": {
        "colab": {
          "base_uri": "https://localhost:8080/"
        },
        "id": "chB7GPvwFcXs",
        "outputId": "27ae6294-fb28-4657-bf6a-156e656bc6b9"
      },
      "execution_count": 9,
      "outputs": [
        {
          "output_type": "execute_result",
          "data": {
            "text/plain": [
              "array([[3]])"
            ]
          },
          "metadata": {},
          "execution_count": 9
        }
      ]
    },
    {
      "cell_type": "code",
      "source": [
        "np.dot(P, v2.T)"
      ],
      "metadata": {
        "colab": {
          "base_uri": "https://localhost:8080/"
        },
        "id": "3zItnwqXFd3v",
        "outputId": "09aa0381-10c3-411d-ee38-3f217d5c685e"
      },
      "execution_count": 10,
      "outputs": [
        {
          "output_type": "execute_result",
          "data": {
            "text/plain": [
              "array([[0]])"
            ]
          },
          "metadata": {},
          "execution_count": 10
        }
      ]
    },
    {
      "cell_type": "code",
      "source": [
        "np.dot(P, v3.T)"
      ],
      "metadata": {
        "colab": {
          "base_uri": "https://localhost:8080/"
        },
        "id": "kbTlID4WFfK8",
        "outputId": "0322aab2-e229-4d3f-d4db-ac692e481aed"
      },
      "execution_count": 11,
      "outputs": [
        {
          "output_type": "execute_result",
          "data": {
            "text/plain": [
              "array([[-3]])"
            ]
          },
          "metadata": {},
          "execution_count": 11
        }
      ]
    },
    {
      "cell_type": "markdown",
      "source": [
        "The function below checks in which side of the plane P is located the vector `v`"
      ],
      "metadata": {
        "id": "OLduV0-cFgyN"
      }
    },
    {
      "cell_type": "code",
      "source": [
        "def side_of_plane(P, v):\n",
        "    dotproduct = np.dot(P, v.T) # Get the dot product P * v'\n",
        "    sign_of_dot_product = np.sign(dotproduct) # The sign of the elements of the dotproduct matrix \n",
        "    sign_of_dot_product_scalar = sign_of_dot_product.item() # The value of the first item\n",
        "    return sign_of_dot_product_scalar"
      ],
      "metadata": {
        "id": "25F2MYG9Fm8_"
      },
      "execution_count": 12,
      "outputs": []
    },
    {
      "cell_type": "code",
      "source": [
        "side_of_plane(P, v1) # In which side is [1, 2]"
      ],
      "metadata": {
        "colab": {
          "base_uri": "https://localhost:8080/"
        },
        "id": "km2_I9jPFosx",
        "outputId": "4c0118d5-93ac-4a04-82b5-8029fe698f4e"
      },
      "execution_count": 13,
      "outputs": [
        {
          "output_type": "execute_result",
          "data": {
            "text/plain": [
              "1"
            ]
          },
          "metadata": {},
          "execution_count": 13
        }
      ]
    },
    {
      "cell_type": "code",
      "source": [
        "side_of_plane(P, v2) # In which side is [-1, 1]"
      ],
      "metadata": {
        "colab": {
          "base_uri": "https://localhost:8080/"
        },
        "id": "AI8t9DvFFqaG",
        "outputId": "619af4dd-502a-46df-a91a-63ae0b9f7bdd"
      },
      "execution_count": 14,
      "outputs": [
        {
          "output_type": "execute_result",
          "data": {
            "text/plain": [
              "0"
            ]
          },
          "metadata": {},
          "execution_count": 14
        }
      ]
    },
    {
      "cell_type": "code",
      "source": [
        "side_of_plane(P, v3) # In which side is [-2, -1]"
      ],
      "metadata": {
        "colab": {
          "base_uri": "https://localhost:8080/"
        },
        "id": "2W1ARyiFFsPz",
        "outputId": "8f78be35-04ff-4a68-8eb7-8d71209ff162"
      },
      "execution_count": 15,
      "outputs": [
        {
          "output_type": "execute_result",
          "data": {
            "text/plain": [
              "-1"
            ]
          },
          "metadata": {},
          "execution_count": 15
        }
      ]
    },
    {
      "cell_type": "markdown",
      "source": [
        "##**Hash Function with multiple planes**\n",
        "In the following section, we are going to define a hash function with a list of three custom planes in 2D."
      ],
      "metadata": {
        "id": "CkcP3iRqFwpC"
      }
    },
    {
      "cell_type": "code",
      "source": [
        "P1 = np.array([[1, 1]])   # First plane 2D\n",
        "P2 = np.array([[-1, 1]])  # Second plane 2D\n",
        "P3 = np.array([[-1, -1]]) # Third plane 2D\n",
        "P_l = [P1, P2, P3]  # List of arrays. It is the multi plane\n",
        "\n",
        "# Vector to search\n",
        "v = np.array([[2, 2]])"
      ],
      "metadata": {
        "id": "i9Jc5by2F3Pu"
      },
      "execution_count": 16,
      "outputs": []
    },
    {
      "cell_type": "markdown",
      "source": [
        "The next function creates a hash value based on a set of planes. The output value is a combination of the side of the plane where the vector is localized with respect to the collection of planes.\n",
        "\n",
        "We can think of this list of planes as a set of basic hash functions, each of which can produce only 1 or 0 as output."
      ],
      "metadata": {
        "id": "Ae_xVc-GF6qM"
      }
    },
    {
      "cell_type": "code",
      "source": [
        "def hash_multi_plane(P_l, v):\n",
        "    hash_value = 0\n",
        "    for i, P in enumerate(P_l):\n",
        "        sign = side_of_plane(P,v)\n",
        "        hash_i = 1 if sign >=0 else 0\n",
        "        hash_value += 2**i * hash_i\n",
        "    return hash_value"
      ],
      "metadata": {
        "id": "hwstVu86F8nO"
      },
      "execution_count": 17,
      "outputs": []
    },
    {
      "cell_type": "code",
      "source": [
        "hash_multi_plane(P_l, v) # Find the number of the plane that containes this value"
      ],
      "metadata": {
        "colab": {
          "base_uri": "https://localhost:8080/"
        },
        "id": "cJLaH18cGAWB",
        "outputId": "219e5f85-e40a-4f0b-b1f7-bb0c7e9ea1cc"
      },
      "execution_count": 18,
      "outputs": [
        {
          "output_type": "execute_result",
          "data": {
            "text/plain": [
              "3"
            ]
          },
          "metadata": {},
          "execution_count": 18
        }
      ]
    },
    {
      "cell_type": "markdown",
      "source": [
        "##**Random Planes**\n",
        "In the cell below, we create a set of three random planes"
      ],
      "metadata": {
        "id": "4ZMcFR0UGEEj"
      }
    },
    {
      "cell_type": "code",
      "source": [
        "np.random.seed(0)\n",
        "num_dimensions = 2 # is 300 in assignment\n",
        "num_planes = 3 # is 10 in assignment\n",
        "random_planes_matrix = np.random.normal(\n",
        "                       size=(num_planes,\n",
        "                             num_dimensions))\n",
        "print(random_planes_matrix)"
      ],
      "metadata": {
        "colab": {
          "base_uri": "https://localhost:8080/"
        },
        "id": "Fy-eTIKrGGt_",
        "outputId": "768938ae-078e-4ca0-e29d-d003210d0f3f"
      },
      "execution_count": 19,
      "outputs": [
        {
          "output_type": "stream",
          "name": "stdout",
          "text": [
            "[[ 1.76405235  0.40015721]\n",
            " [ 0.97873798  2.2408932 ]\n",
            " [ 1.86755799 -0.97727788]]\n"
          ]
        }
      ]
    },
    {
      "cell_type": "code",
      "source": [
        "v = np.array([[2, 2]])"
      ],
      "metadata": {
        "id": "3y2v9gM-GJtd"
      },
      "execution_count": 20,
      "outputs": []
    },
    {
      "cell_type": "markdown",
      "source": [
        "The next function is similar to the `side_of_plane()` function, but it evaluates more than a plane each time. The result is an array with the side of the plane of `v`, for the set of planes `P`"
      ],
      "metadata": {
        "id": "BDg9CDdEGLR2"
      }
    },
    {
      "cell_type": "code",
      "source": [
        "# Side of the plane function. The result is a matrix\n",
        "def side_of_plane_matrix(P, v):\n",
        "    dotproduct = np.dot(P, v.T)\n",
        "    sign_of_dot_product = np.sign(dotproduct) # Get a boolean value telling if the value in the cell is positive or negative\n",
        "    return sign_of_dot_product"
      ],
      "metadata": {
        "id": "uPQzZ8DGGYaZ"
      },
      "execution_count": 21,
      "outputs": []
    },
    {
      "cell_type": "markdown",
      "source": [
        "Get the side of the plane of the vector `[2, 2]` for the set of random planes."
      ],
      "metadata": {
        "id": "Z75ljJmYGa1e"
      }
    },
    {
      "cell_type": "code",
      "source": [
        "sides_l = side_of_plane_matrix(\n",
        "            random_planes_matrix, v)\n",
        "sides_l"
      ],
      "metadata": {
        "colab": {
          "base_uri": "https://localhost:8080/"
        },
        "id": "PSQU67z-GetT",
        "outputId": "cab88fb5-6712-45b9-ba36-aa442d5942f4"
      },
      "execution_count": 22,
      "outputs": [
        {
          "output_type": "execute_result",
          "data": {
            "text/plain": [
              "array([[1.],\n",
              "       [1.],\n",
              "       [1.]])"
            ]
          },
          "metadata": {},
          "execution_count": 22
        }
      ]
    },
    {
      "cell_type": "markdown",
      "source": [
        "Now, let us use the former function to define our multiplane hash function"
      ],
      "metadata": {
        "id": "8OaZjhr8Gg_z"
      }
    },
    {
      "cell_type": "code",
      "source": [
        "def hash_multi_plane_matrix(P, v, num_planes):\n",
        "    sides_matrix = side_of_plane_matrix(P, v) # Get the side of planes for P and v\n",
        "    hash_value = 0\n",
        "    for i in range(num_planes):\n",
        "        sign = sides_matrix[i].item() # Get the value inside the matrix cell\n",
        "        hash_i = 1 if sign >=0 else 0\n",
        "        hash_value += 2**i * hash_i # sum 2^i * hash_i\n",
        "        \n",
        "    return hash_value"
      ],
      "metadata": {
        "id": "Mboc7JqNGipN"
      },
      "execution_count": 23,
      "outputs": []
    },
    {
      "cell_type": "markdown",
      "source": [
        "Print the bucket hash for the vector `v = [2, 2]`."
      ],
      "metadata": {
        "id": "jcYFSiHyGlAI"
      }
    },
    {
      "cell_type": "code",
      "source": [
        "hash_multi_plane_matrix(random_planes_matrix, v, num_planes)"
      ],
      "metadata": {
        "colab": {
          "base_uri": "https://localhost:8080/"
        },
        "id": "77YXRq2xGoWA",
        "outputId": "0786b7dc-820e-4be6-b7eb-cbde67c4092e"
      },
      "execution_count": 24,
      "outputs": [
        {
          "output_type": "execute_result",
          "data": {
            "text/plain": [
              "7"
            ]
          },
          "metadata": {},
          "execution_count": 24
        }
      ]
    },
    {
      "cell_type": "markdown",
      "source": [
        "**Note**\n",
        "This showed you how to make one set of random planes. You will make multiple sets of random planes in order to make the approximate nearest neighbors more accurate.\n",
        "\n",
        "##**Document vectors**\n",
        "Before we finish this lab, remember that you can represent a document as a vector by adding up the word vectors for the words inside the document. In this example, our embedding contains only three words, each represented by a 3D array."
      ],
      "metadata": {
        "id": "u-bN7rofGr3d"
      }
    },
    {
      "cell_type": "code",
      "source": [
        "word_embedding = {\"I\": np.array([1,0,1]),\n",
        "                   \"love\": np.array([-1,0,1]),\n",
        "                   \"learning\": np.array([1,0,1])\n",
        "                  }\n",
        "words_in_document = ['I', 'love', 'learning', 'not_a_word']\n",
        "document_embedding = np.array([0,0,0])\n",
        "for word in words_in_document:\n",
        "    document_embedding += word_embedding.get(word,0)\n",
        "    \n",
        "print(document_embedding)"
      ],
      "metadata": {
        "colab": {
          "base_uri": "https://localhost:8080/"
        },
        "id": "ivInpseOGzri",
        "outputId": "1bfee426-7a4d-42f4-c09a-4a2f5781a4b5"
      },
      "execution_count": 25,
      "outputs": [
        {
          "output_type": "stream",
          "name": "stdout",
          "text": [
            "[1 0 3]\n"
          ]
        }
      ]
    },
    {
      "cell_type": "markdown",
      "source": [
        "**Congratulations! You've now completed this lab on hash functions and multiplanes!**"
      ],
      "metadata": {
        "id": "dLWfxUNGG4bo"
      }
    }
  ]
}